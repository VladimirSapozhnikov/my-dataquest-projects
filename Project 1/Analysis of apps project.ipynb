{
 "cells": [
  {
   "cell_type": "code",
   "execution_count": 1,
   "metadata": {},
   "outputs": [],
   "source": [
    "#     DataQuest Project - Profitable App Profiles for the App Store\n",
    "#                       and Google Play Markets\n",
    "\n",
    "# We will be considering 2 datasets in this project: \n",
    "# The app store and google play apps datasets. The goal is to find an optimal \n",
    "# Category for an app developer to build a free app in, based on the factor\n",
    "# columns provided by the data.\n",
    "\n",
    "#The project does not require any external libraries other than csv."
   ]
  },
  {
   "cell_type": "code",
   "execution_count": 2,
   "metadata": {},
   "outputs": [],
   "source": [
    "from csv import reader #Import the datasets and read them\n",
    "opened_file = open('googleplaystore.csv', encoding = \"utf8\")\n",
    "read_file = reader(opened_file)\n",
    "apps_data_google = list(read_file)\n",
    "\n",
    "opened_file = open('AppleStore.csv', encoding = \"utf8\")\n",
    "read_file = reader(opened_file)\n",
    "apps_data_apple = list(read_file)\n"
   ]
  },
  {
   "cell_type": "code",
   "execution_count": 3,
   "metadata": {},
   "outputs": [
    {
     "data": {
      "text/plain": [
       "['App',\n",
       " 'Category',\n",
       " 'Rating',\n",
       " 'Reviews',\n",
       " 'Size',\n",
       " 'Installs',\n",
       " 'Type',\n",
       " 'Price',\n",
       " 'Content Rating',\n",
       " 'Genres',\n",
       " 'Last Updated',\n",
       " 'Current Ver',\n",
       " 'Android Ver']"
      ]
     },
     "execution_count": 3,
     "metadata": {},
     "output_type": "execute_result"
    }
   ],
   "source": [
    "apps_data_google[0] #The first row contains column names"
   ]
  },
  {
   "cell_type": "code",
   "execution_count": 4,
   "metadata": {},
   "outputs": [
    {
     "data": {
      "text/plain": [
       "['',\n",
       " 'id',\n",
       " 'track_name',\n",
       " 'size_bytes',\n",
       " 'currency',\n",
       " 'price',\n",
       " 'rating_count_tot',\n",
       " 'rating_count_ver',\n",
       " 'user_rating',\n",
       " 'user_rating_ver',\n",
       " 'ver',\n",
       " 'cont_rating',\n",
       " 'prime_genre',\n",
       " 'sup_devices.num',\n",
       " 'ipadSc_urls.num',\n",
       " 'lang.num',\n",
       " 'vpp_lic']"
      ]
     },
     "execution_count": 4,
     "metadata": {},
     "output_type": "execute_result"
    }
   ],
   "source": [
    "apps_data_apple[0]"
   ]
  },
  {
   "cell_type": "code",
   "execution_count": 5,
   "metadata": {},
   "outputs": [
    {
     "data": {
      "text/plain": [
       "7198"
      ]
     },
     "execution_count": 5,
     "metadata": {},
     "output_type": "execute_result"
    }
   ],
   "source": [
    "len(apps_data_apple) #length of the apple dataset"
   ]
  },
  {
   "cell_type": "code",
   "execution_count": 6,
   "metadata": {},
   "outputs": [
    {
     "data": {
      "text/plain": [
       "10842"
      ]
     },
     "execution_count": 6,
     "metadata": {},
     "output_type": "execute_result"
    }
   ],
   "source": [
    "len(apps_data_google)"
   ]
  },
  {
   "cell_type": "code",
   "execution_count": 7,
   "metadata": {},
   "outputs": [],
   "source": [
    "#Data cleaning\n",
    "# 1. remove non-English apps, duplicates\n",
    "# 2. remove or correct inaccurate data\n",
    "# 3. remove non-free apps as those will not be included in the analysis"
   ]
  },
  {
   "cell_type": "code",
   "execution_count": 8,
   "metadata": {},
   "outputs": [],
   "source": [
    "# according to https://www.kaggle.com/lava18/google-play-store-apps/discussion the google play dataset\n",
    "#has a wrong entry at row 10472\n",
    "#according to the source, Category is not present and hence column shift has happened in this row"
   ]
  },
  {
   "cell_type": "code",
   "execution_count": 9,
   "metadata": {},
   "outputs": [
    {
     "data": {
      "text/plain": [
       "['Life Made WI-Fi Touchscreen Photo Frame',\n",
       " '1.9',\n",
       " '19',\n",
       " '3.0M',\n",
       " '1,000+',\n",
       " 'Free',\n",
       " '0',\n",
       " 'Everyone',\n",
       " '',\n",
       " 'February 11, 2018',\n",
       " '1.0.19',\n",
       " '4.0 and up']"
      ]
     },
     "execution_count": 9,
     "metadata": {},
     "output_type": "execute_result"
    }
   ],
   "source": [
    "apps_data_google[10473] #inspecting the required entry"
   ]
  },
  {
   "cell_type": "code",
   "execution_count": 10,
   "metadata": {},
   "outputs": [
    {
     "data": {
      "text/plain": [
       "['App',\n",
       " 'Category',\n",
       " 'Rating',\n",
       " 'Reviews',\n",
       " 'Size',\n",
       " 'Installs',\n",
       " 'Type',\n",
       " 'Price',\n",
       " 'Content Rating',\n",
       " 'Genres',\n",
       " 'Last Updated',\n",
       " 'Current Ver',\n",
       " 'Android Ver']"
      ]
     },
     "execution_count": 10,
     "metadata": {},
     "output_type": "execute_result"
    }
   ],
   "source": [
    "apps_data_google[0] #indeed the category entry is missing, and for example\n",
    "#the \"installs column\" has an entry \"Free\"\n",
    "#indicating that there was a column shift. "
   ]
  },
  {
   "cell_type": "code",
   "execution_count": 11,
   "metadata": {},
   "outputs": [],
   "source": [
    "del apps_data_google[10473] #Deleting the entry as not much data is lost here -\n",
    "#only a single row."
   ]
  },
  {
   "cell_type": "code",
   "execution_count": 12,
   "metadata": {},
   "outputs": [],
   "source": [
    "#Checking the source for the apple dataset https://www.kaggle.com/ramamet4/app-store-apple-data-set-10k-apps/discussion\n",
    "#I could not find any reports of wrong data."
   ]
  },
  {
   "cell_type": "code",
   "execution_count": 13,
   "metadata": {},
   "outputs": [],
   "source": [
    "#Finding duplicates\n",
    "#google play\n",
    "unique_google = []\n",
    "dup_google = []\n",
    "\n",
    "for entry in apps_data_google[1:]: #sepparating the app names into duplicates\n",
    "                                   # and unique apps\n",
    "    name = entry[0]\n",
    "    if name in unique_google:\n",
    "        dup_google.append(name)\n",
    "    else:\n",
    "        unique_google.append(name)\n",
    "\n",
    "#App store\n",
    "unique_apps = []\n",
    "dup_apps = []\n",
    "\n",
    "for entry in apps_data_apple[1:]:\n",
    "    name = entry[0]\n",
    "    if name in unique_apps:\n",
    "        dup_apps.append(name)\n",
    "    else:\n",
    "        unique_apps.append(name)\n",
    "        "
   ]
  },
  {
   "cell_type": "code",
   "execution_count": 14,
   "metadata": {},
   "outputs": [
    {
     "data": {
      "text/plain": [
       "[]"
      ]
     },
     "execution_count": 14,
     "metadata": {},
     "output_type": "execute_result"
    }
   ],
   "source": [
    "dup_apps #no duplicates in the appstore dataset.\n"
   ]
  },
  {
   "cell_type": "code",
   "execution_count": 15,
   "metadata": {},
   "outputs": [
    {
     "data": {
      "text/plain": [
       "1181"
      ]
     },
     "execution_count": 15,
     "metadata": {},
     "output_type": "execute_result"
    }
   ],
   "source": [
    "len(dup_google) #quite a few duplicates in the google dataset"
   ]
  },
  {
   "cell_type": "code",
   "execution_count": 16,
   "metadata": {},
   "outputs": [
    {
     "name": "stdout",
     "output_type": "stream",
     "text": [
      "0\n",
      "1181\n"
     ]
    }
   ],
   "source": [
    "#Using the 2 simple functions above, we have checked that only the google dataset has missing entries.\n",
    "print(len(dup_apps))\n",
    "print(len(dup_google))"
   ]
  },
  {
   "cell_type": "code",
   "execution_count": 17,
   "metadata": {},
   "outputs": [],
   "source": [
    "\n",
    "#Now the duplicates from the dataset will be removed. \n",
    "#The removal process is not going to be random and the removal criterion is going to be the number of reviews for the google\n",
    "#play dataset \n",
    "#This is because the version of the app with the largest numbner of reviews is the latest\n",
    "#version of that app.\n"
   ]
  },
  {
   "cell_type": "code",
   "execution_count": 18,
   "metadata": {},
   "outputs": [],
   "source": [
    "#google play\n",
    "reviews_max = {}\n",
    "for entry in apps_data_google[1:]:\n",
    "    name = entry[0]\n",
    "    n_reviews = float(entry[3])\n",
    "    if (name in reviews_max and reviews_max[name] <= n_reviews):\n",
    "        temp = {name: n_reviews}\n",
    "        reviews_max.update(temp)\n",
    "    elif name not in reviews_max:\n",
    "        reviews_max[name] = n_reviews\n",
    "       \n",
    "        \n",
    "        \n",
    "        "
   ]
  },
  {
   "cell_type": "code",
   "execution_count": 22,
   "metadata": {},
   "outputs": [
    {
     "name": "stdout",
     "output_type": "stream",
     "text": [
      "9659\n"
     ]
    }
   ],
   "source": [
    "print(len(reviews_max))\n",
    "#this dictionary contains unique app entries with \n",
    "#the maximised numbers of reviews\n"
   ]
  },
  {
   "cell_type": "code",
   "execution_count": 24,
   "metadata": {},
   "outputs": [],
   "source": [
    "#now using that dictionary, we can remove the duplicate entries in the google play dataset\n",
    "google_clean = []\n",
    "added = []\n",
    "for entry in apps_data_google[1:]:\n",
    "    name = entry[0]\n",
    "    rev = float(entry[3])\n",
    "    if (name in reviews_max) and (rev == reviews_max[name]) and (name not in added):\n",
    "        google_clean.append(entry)\n",
    "        added.append(name)"
   ]
  },
  {
   "cell_type": "code",
   "execution_count": 25,
   "metadata": {},
   "outputs": [
    {
     "data": {
      "text/plain": [
       "9659"
      ]
     },
     "execution_count": 25,
     "metadata": {},
     "output_type": "execute_result"
    }
   ],
   "source": [
    "len(google_clean) #since the number of entries of the clean dataset matches the number of entries in the dictionary, we conclude\n",
    "#that the dataset indeed contains no duplicates."
   ]
  },
  {
   "cell_type": "code",
   "execution_count": 26,
   "metadata": {},
   "outputs": [],
   "source": [
    "#The second stage of the cleaning process is to remove apps that are not targeted at the English-speaking audience.\n",
    "#This can be done through filtering the symbols according to the ASCII system. \n",
    "#(range of symbols 0-127.)"
   ]
  },
  {
   "cell_type": "code",
   "execution_count": 27,
   "metadata": {},
   "outputs": [],
   "source": [
    "#The following function takes in a string, analyses it char by char, and determines if its order is in the required range.\n",
    "#If a single char is out of that range, it very likely that the app has a foreign char in its name and is therefore not \n",
    "#targeted at an English-speaking audience.\n",
    "#The function returns a bool with True meaning the string is in English and False if at least 3 chars are out of range.\n",
    "#This is so that an app with up to emojis is not filtered out. \n",
    "def ASCII_filter(string):\n",
    "    count = 0\n",
    "    for char in string:\n",
    "        if (ord(char) > 127):\n",
    "            count +=1\n",
    "    \n",
    "    if count > 3:\n",
    "        return False\n",
    "    else:\n",
    "        return True\n",
    "            \n",
    "            \n",
    "\n",
    "        \n"
   ]
  },
  {
   "cell_type": "code",
   "execution_count": 28,
   "metadata": {},
   "outputs": [
    {
     "data": {
      "text/plain": [
       "True"
      ]
     },
     "execution_count": 28,
     "metadata": {},
     "output_type": "execute_result"
    }
   ],
   "source": [
    "#testing \n",
    "ASCII_filter(\"Vladimir Sapozhnikov\")\n"
   ]
  },
  {
   "cell_type": "code",
   "execution_count": 29,
   "metadata": {},
   "outputs": [
    {
     "data": {
      "text/plain": [
       "True"
      ]
     },
     "execution_count": 29,
     "metadata": {},
     "output_type": "execute_result"
    }
   ],
   "source": [
    "ASCII_filter(\"Vl😁dimir\")"
   ]
  },
  {
   "cell_type": "code",
   "execution_count": 30,
   "metadata": {},
   "outputs": [
    {
     "data": {
      "text/plain": [
       "False"
      ]
     },
     "execution_count": 30,
     "metadata": {},
     "output_type": "execute_result"
    }
   ],
   "source": [
    "ASCII_filter(\"Владимир Сапожников\") "
   ]
  },
  {
   "cell_type": "code",
   "execution_count": 31,
   "metadata": {},
   "outputs": [],
   "source": [
    "#The function works correctly and can therefore be applied to filter out the undesired entries."
   ]
  },
  {
   "cell_type": "code",
   "execution_count": 32,
   "metadata": {},
   "outputs": [],
   "source": [
    "google_play_clean = []\n",
    "for entry in google_clean:\n",
    "    name = entry[0]\n",
    "    if ASCII_filter(name) == True:\n",
    "        google_play_clean.append(entry)"
   ]
  },
  {
   "cell_type": "code",
   "execution_count": 33,
   "metadata": {},
   "outputs": [
    {
     "data": {
      "text/plain": [
       "9614"
      ]
     },
     "execution_count": 33,
     "metadata": {},
     "output_type": "execute_result"
    }
   ],
   "source": [
    "len(google_play_clean)\n"
   ]
  },
  {
   "cell_type": "code",
   "execution_count": 34,
   "metadata": {},
   "outputs": [],
   "source": [
    "#Now the apple dataset\n",
    "appstore_clean = []\n",
    "for entry in apps_data_apple:\n",
    "    name = entry[3]\n",
    "    if ASCII_filter(name) == True:\n",
    "        appstore_clean.append(entry)\n",
    "        "
   ]
  },
  {
   "cell_type": "code",
   "execution_count": 35,
   "metadata": {},
   "outputs": [
    {
     "data": {
      "text/plain": [
       "7198"
      ]
     },
     "execution_count": 35,
     "metadata": {},
     "output_type": "execute_result"
    }
   ],
   "source": [
    "len(appstore_clean)"
   ]
  },
  {
   "cell_type": "code",
   "execution_count": 36,
   "metadata": {},
   "outputs": [
    {
     "data": {
      "text/plain": [
       "0"
      ]
     },
     "execution_count": 36,
     "metadata": {},
     "output_type": "execute_result"
    }
   ],
   "source": [
    "#Double check\n",
    "count = 0\n",
    "for entry in appstore_clean:\n",
    "    name = entry[3]\n",
    "    if ASCII_filter(name) == False:\n",
    "        count +=1\n",
    "        \n",
    "count        "
   ]
  },
  {
   "cell_type": "code",
   "execution_count": 37,
   "metadata": {},
   "outputs": [
    {
     "data": {
      "text/plain": [
       "0"
      ]
     },
     "execution_count": 37,
     "metadata": {},
     "output_type": "execute_result"
    }
   ],
   "source": [
    "count = 0\n",
    "for entry in google_play_clean:\n",
    "    name = entry[0]\n",
    "    if ASCII_filter(name) == False:\n",
    "        count +=1\n",
    "        \n",
    "count          "
   ]
  },
  {
   "cell_type": "code",
   "execution_count": 38,
   "metadata": {},
   "outputs": [],
   "source": [
    "#Since the count is 0 in both datasets, the datasets are likely to match the language requirement.\n",
    "#(we cannot be 100% sure though, as the filter might miss names that are less than or 3 characters long and are foreign.)\n",
    "#The function could be further improved by looking at the ratio of foreign chars to english chars rather than an arbitrarily\n",
    "#chosen number."
   ]
  },
  {
   "cell_type": "code",
   "execution_count": 39,
   "metadata": {},
   "outputs": [],
   "source": [
    "#The last part of the cleaning process is to remove all the paid apps from both datasets.\n",
    "#With the google play dataset, we simply leave the apps that say \"Free\" in the Type column.\n",
    "#With the app store dataset, we only leave tha apps that have a price of \"0.0\"\n",
    "google_play_final = []\n",
    "app_store_final = []\n",
    "\n",
    "for entry in google_play_clean[1:]:\n",
    "    isfree = entry[6]\n",
    "    if isfree == \"Free\" or isfree == \"free\":\n",
    "        google_play_final.append(entry)\n",
    "\n",
    "for entry in appstore_clean[1:]:\n",
    "    price = entry[7]\n",
    "    if price == \"0.0\" or price == \"0\" or price == \"$0.0\" or price == \"$0\":\n",
    "        app_store_final.append(entry)\n",
    "    "
   ]
  },
  {
   "cell_type": "code",
   "execution_count": 40,
   "metadata": {},
   "outputs": [
    {
     "data": {
      "text/plain": [
       "8862"
      ]
     },
     "execution_count": 40,
     "metadata": {},
     "output_type": "execute_result"
    }
   ],
   "source": [
    "len(google_play_final)"
   ]
  },
  {
   "cell_type": "code",
   "execution_count": 41,
   "metadata": {},
   "outputs": [
    {
     "data": {
      "text/plain": [
       "1443"
      ]
     },
     "execution_count": 41,
     "metadata": {},
     "output_type": "execute_result"
    }
   ],
   "source": [
    "len(app_store_final)"
   ]
  },
  {
   "cell_type": "code",
   "execution_count": 42,
   "metadata": {},
   "outputs": [
    {
     "data": {
      "text/plain": [
       "['',\n",
       " 'id',\n",
       " 'track_name',\n",
       " 'size_bytes',\n",
       " 'currency',\n",
       " 'price',\n",
       " 'rating_count_tot',\n",
       " 'rating_count_ver',\n",
       " 'user_rating',\n",
       " 'user_rating_ver',\n",
       " 'ver',\n",
       " 'cont_rating',\n",
       " 'prime_genre',\n",
       " 'sup_devices.num',\n",
       " 'ipadSc_urls.num',\n",
       " 'lang.num',\n",
       " 'vpp_lic']"
      ]
     },
     "execution_count": 42,
     "metadata": {},
     "output_type": "execute_result"
    }
   ],
   "source": [
    "apps_data_apple[0]"
   ]
  },
  {
   "cell_type": "code",
   "execution_count": 43,
   "metadata": {},
   "outputs": [],
   "source": [
    "#adding back the headers\n",
    "google_play_final.insert(0, apps_data_google[0])\n",
    "app_store_final.insert(0, apps_data_apple[0])\n"
   ]
  },
  {
   "cell_type": "code",
   "execution_count": 44,
   "metadata": {},
   "outputs": [
    {
     "data": {
      "text/plain": [
       "[['App',\n",
       "  'Category',\n",
       "  'Rating',\n",
       "  'Reviews',\n",
       "  'Size',\n",
       "  'Installs',\n",
       "  'Type',\n",
       "  'Price',\n",
       "  'Content Rating',\n",
       "  'Genres',\n",
       "  'Last Updated',\n",
       "  'Current Ver',\n",
       "  'Android Ver'],\n",
       " ['U Launcher Lite – FREE Live Cool Themes, Hide Apps',\n",
       "  'ART_AND_DESIGN',\n",
       "  '4.7',\n",
       "  '87510',\n",
       "  '8.7M',\n",
       "  '5,000,000+',\n",
       "  'Free',\n",
       "  '0',\n",
       "  'Everyone',\n",
       "  'Art & Design',\n",
       "  'August 1, 2018',\n",
       "  '1.2.4',\n",
       "  '4.0.3 and up'],\n",
       " ['Sketch - Draw & Paint',\n",
       "  'ART_AND_DESIGN',\n",
       "  '4.5',\n",
       "  '215644',\n",
       "  '25M',\n",
       "  '50,000,000+',\n",
       "  'Free',\n",
       "  '0',\n",
       "  'Teen',\n",
       "  'Art & Design',\n",
       "  'June 8, 2018',\n",
       "  'Varies with device',\n",
       "  '4.2 and up'],\n",
       " ['Pixel Draw - Number Art Coloring Book',\n",
       "  'ART_AND_DESIGN',\n",
       "  '4.3',\n",
       "  '967',\n",
       "  '2.8M',\n",
       "  '100,000+',\n",
       "  'Free',\n",
       "  '0',\n",
       "  'Everyone',\n",
       "  'Art & Design;Creativity',\n",
       "  'June 20, 2018',\n",
       "  '1.1',\n",
       "  '4.4 and up'],\n",
       " ['Paper flowers instructions',\n",
       "  'ART_AND_DESIGN',\n",
       "  '4.4',\n",
       "  '167',\n",
       "  '5.6M',\n",
       "  '50,000+',\n",
       "  'Free',\n",
       "  '0',\n",
       "  'Everyone',\n",
       "  'Art & Design',\n",
       "  'March 26, 2017',\n",
       "  '1.0',\n",
       "  '2.3 and up'],\n",
       " ['Smoke Effect Photo Maker - Smoke Editor',\n",
       "  'ART_AND_DESIGN',\n",
       "  '3.8',\n",
       "  '178',\n",
       "  '19M',\n",
       "  '50,000+',\n",
       "  'Free',\n",
       "  '0',\n",
       "  'Everyone',\n",
       "  'Art & Design',\n",
       "  'April 26, 2018',\n",
       "  '1.1',\n",
       "  '4.0.3 and up'],\n",
       " ['Infinite Painter',\n",
       "  'ART_AND_DESIGN',\n",
       "  '4.1',\n",
       "  '36815',\n",
       "  '29M',\n",
       "  '1,000,000+',\n",
       "  'Free',\n",
       "  '0',\n",
       "  'Everyone',\n",
       "  'Art & Design',\n",
       "  'June 14, 2018',\n",
       "  '6.1.61.1',\n",
       "  '4.2 and up'],\n",
       " ['Garden Coloring Book',\n",
       "  'ART_AND_DESIGN',\n",
       "  '4.4',\n",
       "  '13791',\n",
       "  '33M',\n",
       "  '1,000,000+',\n",
       "  'Free',\n",
       "  '0',\n",
       "  'Everyone',\n",
       "  'Art & Design',\n",
       "  'September 20, 2017',\n",
       "  '2.9.2',\n",
       "  '3.0 and up'],\n",
       " ['Kids Paint Free - Drawing Fun',\n",
       "  'ART_AND_DESIGN',\n",
       "  '4.7',\n",
       "  '121',\n",
       "  '3.1M',\n",
       "  '10,000+',\n",
       "  'Free',\n",
       "  '0',\n",
       "  'Everyone',\n",
       "  'Art & Design;Creativity',\n",
       "  'July 3, 2018',\n",
       "  '2.8',\n",
       "  '4.0.3 and up'],\n",
       " ['Text on Photo - Fonteee',\n",
       "  'ART_AND_DESIGN',\n",
       "  '4.4',\n",
       "  '13880',\n",
       "  '28M',\n",
       "  '1,000,000+',\n",
       "  'Free',\n",
       "  '0',\n",
       "  'Everyone',\n",
       "  'Art & Design',\n",
       "  'October 27, 2017',\n",
       "  '1.0.4',\n",
       "  '4.1 and up'],\n",
       " ['Name Art Photo Editor - Focus n Filters',\n",
       "  'ART_AND_DESIGN',\n",
       "  '4.4',\n",
       "  '8788',\n",
       "  '12M',\n",
       "  '1,000,000+',\n",
       "  'Free',\n",
       "  '0',\n",
       "  'Everyone',\n",
       "  'Art & Design',\n",
       "  'July 31, 2018',\n",
       "  '1.0.15',\n",
       "  '4.0 and up'],\n",
       " ['Tattoo Name On My Photo Editor',\n",
       "  'ART_AND_DESIGN',\n",
       "  '4.2',\n",
       "  '44829',\n",
       "  '20M',\n",
       "  '10,000,000+',\n",
       "  'Free',\n",
       "  '0',\n",
       "  'Teen',\n",
       "  'Art & Design',\n",
       "  'April 2, 2018',\n",
       "  '3.8',\n",
       "  '4.1 and up'],\n",
       " ['Mandala Coloring Book',\n",
       "  'ART_AND_DESIGN',\n",
       "  '4.6',\n",
       "  '4326',\n",
       "  '21M',\n",
       "  '100,000+',\n",
       "  'Free',\n",
       "  '0',\n",
       "  'Everyone',\n",
       "  'Art & Design',\n",
       "  'June 26, 2018',\n",
       "  '1.0.4',\n",
       "  '4.4 and up'],\n",
       " ['3D Color Pixel by Number - Sandbox Art Coloring',\n",
       "  'ART_AND_DESIGN',\n",
       "  '4.4',\n",
       "  '1518',\n",
       "  '37M',\n",
       "  '100,000+',\n",
       "  'Free',\n",
       "  '0',\n",
       "  'Everyone',\n",
       "  'Art & Design',\n",
       "  'August 3, 2018',\n",
       "  '1.2.3',\n",
       "  '2.3 and up'],\n",
       " ['Learn To Draw Kawaii Characters',\n",
       "  'ART_AND_DESIGN',\n",
       "  '3.2',\n",
       "  '55',\n",
       "  '2.7M',\n",
       "  '5,000+',\n",
       "  'Free',\n",
       "  '0',\n",
       "  'Everyone',\n",
       "  'Art & Design',\n",
       "  'June 6, 2018',\n",
       "  'NaN',\n",
       "  '4.2 and up'],\n",
       " ['Photo Designer - Write your name with shapes',\n",
       "  'ART_AND_DESIGN',\n",
       "  '4.7',\n",
       "  '3632',\n",
       "  '5.5M',\n",
       "  '500,000+',\n",
       "  'Free',\n",
       "  '0',\n",
       "  'Everyone',\n",
       "  'Art & Design',\n",
       "  'July 31, 2018',\n",
       "  '3.1',\n",
       "  '4.1 and up'],\n",
       " ['350 Diy Room Decor Ideas',\n",
       "  'ART_AND_DESIGN',\n",
       "  '4.5',\n",
       "  '27',\n",
       "  '17M',\n",
       "  '10,000+',\n",
       "  'Free',\n",
       "  '0',\n",
       "  'Everyone',\n",
       "  'Art & Design',\n",
       "  'November 7, 2017',\n",
       "  '1.0',\n",
       "  '2.3 and up'],\n",
       " ['FlipaClip - Cartoon animation',\n",
       "  'ART_AND_DESIGN',\n",
       "  '4.3',\n",
       "  '194216',\n",
       "  '39M',\n",
       "  '5,000,000+',\n",
       "  'Free',\n",
       "  '0',\n",
       "  'Everyone',\n",
       "  'Art & Design',\n",
       "  'August 3, 2018',\n",
       "  '2.2.5',\n",
       "  '4.0.3 and up'],\n",
       " ['ibis Paint X',\n",
       "  'ART_AND_DESIGN',\n",
       "  '4.6',\n",
       "  '224399',\n",
       "  '31M',\n",
       "  '10,000,000+',\n",
       "  'Free',\n",
       "  '0',\n",
       "  'Everyone',\n",
       "  'Art & Design',\n",
       "  'July 30, 2018',\n",
       "  '5.5.4',\n",
       "  '4.1 and up'],\n",
       " ['Logo Maker - Small Business',\n",
       "  'ART_AND_DESIGN',\n",
       "  '4.0',\n",
       "  '450',\n",
       "  '14M',\n",
       "  '100,000+',\n",
       "  'Free',\n",
       "  '0',\n",
       "  'Everyone',\n",
       "  'Art & Design',\n",
       "  'April 20, 2018',\n",
       "  '4.0',\n",
       "  '4.1 and up']]"
      ]
     },
     "execution_count": 44,
     "metadata": {},
     "output_type": "execute_result"
    }
   ],
   "source": [
    "google_play_final[:20]"
   ]
  },
  {
   "cell_type": "code",
   "execution_count": 45,
   "metadata": {},
   "outputs": [],
   "source": [
    "\n",
    "#looking at Category, Genres and Installs for Google\n",
    "#prime genre and sup_devices.num"
   ]
  },
  {
   "cell_type": "code",
   "execution_count": 46,
   "metadata": {},
   "outputs": [],
   "source": [
    "#Frequecny table\n",
    "#identify unique genres and categories for google data\n",
    "genre_freq = {}\n",
    "category_freq = {}\n",
    "\n",
    "for entry in google_play_final[1:]:\n",
    "    genre = entry[9]\n",
    "    if genre in genre_freq:\n",
    "        genre_freq[genre] +=1\n",
    "    else:\n",
    "        genre_freq[genre] = 1\n",
    "        \n",
    "for entry in google_play_final[1:]:\n",
    "    category = entry[1]\n",
    "    if category in category_freq:\n",
    "        category_freq[category] +=1\n",
    "    else:\n",
    "        category_freq[category] = 1\n",
    "        \n",
    "\n",
    "#frequncies in terms of proportions and percentages here\n",
    "\n",
    "genre_freq_prop = {}\n",
    "genre_freq_per = {}\n",
    "\n",
    "cat_freq_prop = {}\n",
    "cat_freq_per = {}\n",
    "\n",
    "total_apps = len(google_play_final)\n",
    "\n",
    "for key in genre_freq:\n",
    "    prop = (genre_freq[key]/total_apps)\n",
    "    per = prop*100\n",
    "    genre_freq_prop[key] = prop\n",
    "    genre_freq_per[key] = per\n",
    "    \n",
    "for key in category_freq:\n",
    "    prop = (category_freq[key]/total_apps)\n",
    "    per = prop*100\n",
    "    cat_freq_prop[key] = prop\n",
    "    cat_freq_per[key] = per\n",
    "    \n",
    "\n"
   ]
  },
  {
   "cell_type": "code",
   "execution_count": 47,
   "metadata": {},
   "outputs": [],
   "source": [
    "#Now lets sort them"
   ]
  },
  {
   "cell_type": "code",
   "execution_count": 48,
   "metadata": {},
   "outputs": [],
   "source": [
    "def freq_table_as_tuple_table(freq_table):\n",
    "    tuple_table = []\n",
    "    for key in freq_table:\n",
    "        key_val_as_tuple = (freq_table[key], key)\n",
    "        tuple_table.append(key_val_as_tuple)\n",
    "    return tuple_table    \n",
    "\n",
    "sorted_genre_freq = sorted(freq_table_as_tuple_table(genre_freq), reverse = True)\n",
    "sorted_genre_prop = sorted(freq_table_as_tuple_table(genre_freq_prop), reverse = True)\n",
    "sorted_genre_per = sorted(freq_table_as_tuple_table(genre_freq_per), reverse = True)\n",
    "\n",
    "sorted_cat_freq = sorted(freq_table_as_tuple_table(category_freq), reverse = True)\n",
    "sorted_cat_prop = sorted(freq_table_as_tuple_table(cat_freq_prop), reverse = True)\n",
    "sorted_cat_per = sorted(freq_table_as_tuple_table(cat_freq_per), reverse = True)\n"
   ]
  },
  {
   "cell_type": "code",
   "execution_count": 49,
   "metadata": {},
   "outputs": [],
   "source": [
    "#now do the same with the appstore dataset\n"
   ]
  },
  {
   "cell_type": "code",
   "execution_count": 50,
   "metadata": {},
   "outputs": [],
   "source": [
    "prime_genre_freq = {}\n",
    "\n",
    "for entry in app_store_final[1:]:\n",
    "    prime = entry[12]\n",
    "    if prime in prime_genre_freq:\n",
    "        prime_genre_freq[prime] +=1\n",
    "    else:\n",
    "        prime_genre_freq[prime] = 1\n",
    "        \n",
    "\n",
    "\n",
    "#frequncies in terms of proportions and percentages here\n",
    "prime_genre_prop = {}\n",
    "prime_genre_per = {}\n",
    "\n",
    "total_apps = len(app_store_final)\n",
    "\n",
    "for key in prime_genre_freq:\n",
    "    prop = (prime_genre_freq[key]/total_apps)\n",
    "    per = prop*100\n",
    "    prime_genre_prop[key] = prop\n",
    "    prime_genre_per[key] = per\n",
    "    \n",
    "\n"
   ]
  },
  {
   "cell_type": "code",
   "execution_count": 51,
   "metadata": {},
   "outputs": [],
   "source": [
    "def freq_table_as_tuple_table(freq_table):\n",
    "    tuple_table = []\n",
    "    for key in freq_table:\n",
    "        key_val_as_tuple = (freq_table[key], key)\n",
    "        tuple_table.append(key_val_as_tuple)\n",
    "    return tuple_table    \n",
    "\n",
    "sorted_prime_freq = sorted(freq_table_as_tuple_table(prime_genre_freq), reverse = True)\n",
    "sorted_prime_prop = sorted(freq_table_as_tuple_table(prime_genre_prop), reverse = True)\n",
    "sorted_prime_per = sorted(freq_table_as_tuple_table(prime_genre_per), reverse = True)\n"
   ]
  },
  {
   "cell_type": "code",
   "execution_count": 52,
   "metadata": {},
   "outputs": [],
   "source": [
    "#There is a lot of similar and repeated code here.\n",
    "#Of course this could have been done by creating a general function that would do this for any dictionary we \n",
    "#input, but I decided not to go with that approach as this could affect readability by making the code too abstract and harder\n",
    "#to interpret."
   ]
  },
  {
   "cell_type": "code",
   "execution_count": 53,
   "metadata": {},
   "outputs": [],
   "source": [
    "#Lets check out the results"
   ]
  },
  {
   "cell_type": "code",
   "execution_count": 54,
   "metadata": {},
   "outputs": [
    {
     "name": "stdout",
     "output_type": "stream",
     "text": [
      "[(41.41274238227147, 'Games'), (7.894736842105263, 'Education'), (7.825484764542937, 'Entertainment'), (4.016620498614958, 'Finance'), (3.9473684210526314, 'Book'), (3.8781163434903045, 'Social Networking'), (3.8088642659279777, 'Photo & Video'), (3.6703601108033244, 'Lifestyle'), (3.6011080332409975, 'Utilities'), (2.9778393351800556, 'Shopping'), (2.5623268698060944, 'Health & Fitness'), (2.146814404432133, 'Sports'), (2.008310249307479, 'News'), (1.7313019390581719, 'Travel'), (1.5927977839335181, 'Food & Drink'), (1.3850415512465373, 'Navigation'), (1.2465373961218837, 'Productivity'), (1.0387811634349031, 'Reference'), (0.9695290858725761, 'Weather'), (0.8310249307479225, 'Business'), (0.7617728531855956, 'Music'), (0.3462603878116343, 'Catalogs'), (0.2770083102493075, 'Medical')]\n"
     ]
    }
   ],
   "source": [
    "#App Store prime genre frequency table expressed as a percentage of the total number of apps\n",
    "\n",
    "print(sorted_prime_per)"
   ]
  },
  {
   "cell_type": "code",
   "execution_count": 55,
   "metadata": {},
   "outputs": [
    {
     "name": "stdout",
     "output_type": "stream",
     "text": [
      "[(8.450863138892023, 'Tools'), (6.070179397495204, 'Entertainment'), (5.348076272142616, 'Education'), (4.592124562789123, 'Business'), (3.8925871601038025, 'Productivity'), (3.8925871601038025, 'Lifestyle'), (3.7007785174320205, 'Finance'), (3.5315355974275078, 'Medical'), (3.463838429425702, 'Sports'), (3.317161232088458, 'Personalization'), (3.2381812027530184, 'Communication'), (3.102786866749408, 'Action'), (3.0802211440821394, 'Health & Fitness'), (2.944826808078529, 'Photography'), (2.798149610741284, 'News & Magazines'), (2.6627552747376737, 'Social'), (2.324269434728647, 'Travel & Local'), (2.245289405393208, 'Shopping'), (2.1437436533904997, 'Books & Reference'), (2.042197901387792, 'Simulation'), (1.8616721200496444, 'Dating'), (1.8503892587160102, 'Arcade'), (1.771409229380571, 'Video Players & Editors'), (1.7601263680469368, 'Casual'), (1.399074805370642, 'Maps & Navigation'), (1.241114746699763, 'Food & Drink'), (1.128286133363421, 'Puzzle'), (0.9928917973598104, 'Racing'), (0.9364774906916393, 'Role Playing'), (0.9364774906916393, 'Libraries & Demo'), (0.9251946293580051, 'Auto & Vehicles'), (0.9026289066907368, 'Strategy'), (0.8236488773552973, 'House & Home'), (0.8010831546880289, 'Weather'), (0.7108202640189552, 'Events'), (0.6769716800180525, 'Adventure'), (0.6092745120162473, 'Comics'), (0.5979916506826132, 'Beauty'), (0.5867087893489789, 'Art & Design'), (0.4964458986799052, 'Parenting'), (0.4513144533453684, 'Card'), (0.42874873067809993, 'Casino'), (0.4174658693444658, 'Trivia'), (0.3949001466771973, 'Educational;Education'), (0.38361728534356315, 'Board'), (0.37233442400992894, 'Educational'), (0.33848584000902626, 'Education;Education'), (0.25950581067358686, 'Word'), (0.2369400880063184, 'Casual;Pretend Play'), (0.20309150400541578, 'Music'), (0.16924292000451313, 'Racing;Action & Adventure'), (0.16924292000451313, 'Puzzle;Brain Games'), (0.16924292000451313, 'Entertainment;Music & Video'), (0.1353943360036105, 'Casual;Brain Games'), (0.1353943360036105, 'Casual;Action & Adventure'), (0.1241114746699763, 'Arcade;Action & Adventure'), (0.10154575200270789, 'Action;Action & Adventure'), (0.09026289066907367, 'Educational;Pretend Play'), (0.07898002933543948, 'Simulation;Action & Adventure'), (0.07898002933543948, 'Parenting;Education'), (0.07898002933543948, 'Entertainment;Brain Games'), (0.07898002933543948, 'Board;Brain Games'), (0.06769716800180525, 'Parenting;Music & Video'), (0.06769716800180525, 'Educational;Brain Games'), (0.06769716800180525, 'Casual;Creativity'), (0.06769716800180525, 'Art & Design;Creativity'), (0.05641430666817105, 'Education;Pretend Play'), (0.045131445334536835, 'Role Playing;Pretend Play'), (0.045131445334536835, 'Education;Creativity'), (0.033848584000902626, 'Role Playing;Action & Adventure'), (0.033848584000902626, 'Puzzle;Action & Adventure'), (0.033848584000902626, 'Entertainment;Creativity'), (0.033848584000902626, 'Entertainment;Action & Adventure'), (0.033848584000902626, 'Educational;Creativity'), (0.033848584000902626, 'Educational;Action & Adventure'), (0.033848584000902626, 'Education;Music & Video'), (0.033848584000902626, 'Education;Brain Games'), (0.033848584000902626, 'Education;Action & Adventure'), (0.033848584000902626, 'Adventure;Action & Adventure'), (0.022565722667268417, 'Video Players & Editors;Music & Video'), (0.022565722667268417, 'Sports;Action & Adventure'), (0.022565722667268417, 'Simulation;Pretend Play'), (0.022565722667268417, 'Puzzle;Creativity'), (0.022565722667268417, 'Music;Music & Video'), (0.022565722667268417, 'Entertainment;Pretend Play'), (0.022565722667268417, 'Casual;Education'), (0.022565722667268417, 'Board;Action & Adventure'), (0.011282861333634209, 'Video Players & Editors;Creativity'), (0.011282861333634209, 'Trivia;Education'), (0.011282861333634209, 'Travel & Local;Action & Adventure'), (0.011282861333634209, 'Tools;Education'), (0.011282861333634209, 'Strategy;Education'), (0.011282861333634209, 'Strategy;Creativity'), (0.011282861333634209, 'Strategy;Action & Adventure'), (0.011282861333634209, 'Simulation;Education'), (0.011282861333634209, 'Role Playing;Brain Games'), (0.011282861333634209, 'Racing;Pretend Play'), (0.011282861333634209, 'Puzzle;Education'), (0.011282861333634209, 'Parenting;Brain Games'), (0.011282861333634209, 'Music & Audio;Music & Video'), (0.011282861333634209, 'Lifestyle;Pretend Play'), (0.011282861333634209, 'Lifestyle;Education'), (0.011282861333634209, 'Health & Fitness;Education'), (0.011282861333634209, 'Health & Fitness;Action & Adventure'), (0.011282861333634209, 'Entertainment;Education'), (0.011282861333634209, 'Communication;Creativity'), (0.011282861333634209, 'Comics;Creativity'), (0.011282861333634209, 'Casual;Music & Video'), (0.011282861333634209, 'Card;Action & Adventure'), (0.011282861333634209, 'Books & Reference;Education'), (0.011282861333634209, 'Art & Design;Pretend Play'), (0.011282861333634209, 'Art & Design;Action & Adventure'), (0.011282861333634209, 'Arcade;Pretend Play'), (0.011282861333634209, 'Adventure;Education')]\n"
     ]
    }
   ],
   "source": [
    "#Google play genre frequency table expressed as a percentage of the total number of apps\n",
    "print(sorted_genre_per) "
   ]
  },
  {
   "cell_type": "code",
   "execution_count": 56,
   "metadata": {},
   "outputs": [
    {
     "name": "stdout",
     "output_type": "stream",
     "text": [
      "[(18.898792733837304, 'FAMILY'), (9.725826469592688, 'GAME'), (8.462146000225657, 'TOOLS'), (4.592124562789123, 'BUSINESS'), (3.9038700214374367, 'LIFESTYLE'), (3.8925871601038025, 'PRODUCTIVITY'), (3.7007785174320205, 'FINANCE'), (3.5315355974275078, 'MEDICAL'), (3.396141261423897, 'SPORTS'), (3.317161232088458, 'PERSONALIZATION'), (3.2381812027530184, 'COMMUNICATION'), (3.0802211440821394, 'HEALTH_AND_FITNESS'), (2.944826808078529, 'PHOTOGRAPHY'), (2.798149610741284, 'NEWS_AND_MAGAZINES'), (2.6627552747376737, 'SOCIAL'), (2.335552296062281, 'TRAVEL_AND_LOCAL'), (2.245289405393208, 'SHOPPING'), (2.1437436533904997, 'BOOKS_AND_REFERENCE'), (1.8616721200496444, 'DATING'), (1.7939749520478394, 'VIDEO_PLAYERS'), (1.399074805370642, 'MAPS_AND_NAVIGATION'), (1.241114746699763, 'FOOD_AND_DRINK'), (1.1621347173643235, 'EDUCATION'), (0.9590432133589079, 'ENTERTAINMENT'), (0.9364774906916393, 'LIBRARIES_AND_DEMO'), (0.9251946293580051, 'AUTO_AND_VEHICLES'), (0.8236488773552973, 'HOUSE_AND_HOME'), (0.8010831546880289, 'WEATHER'), (0.7108202640189552, 'EVENTS'), (0.6544059573507841, 'PARENTING'), (0.6318402346835158, 'ART_AND_DESIGN'), (0.6205573733498815, 'COMICS'), (0.5979916506826132, 'BEAUTY')]\n"
     ]
    }
   ],
   "source": [
    "#Google play category frequency table expressed as a percentage of the total number of apps\n",
    "print(sorted_cat_per)"
   ]
  },
  {
   "cell_type": "code",
   "execution_count": 57,
   "metadata": {},
   "outputs": [],
   "source": [
    "#Lets briefly analyse the frequency tables"
   ]
  },
  {
   "cell_type": "code",
   "execution_count": 58,
   "metadata": {},
   "outputs": [],
   "source": [
    "#Google play\n",
    "\n",
    "#The top 3 most popular genres in google play are Tools, Entertainment and Education but due to the large number of \n",
    "#genres, they only hold  rouhly 8.5, 6 and 5 percent of the market respectively.\n",
    "\n",
    "#looking at categories for Google play, we see Family holding roughly 19 percent of the market, Games holding roughly 10,\n",
    "#and Tools roughly 8.5\n",
    "\n",
    "#The general impression is that there is a good mix of practical apps and apps designed for entertainment \n",
    "\n",
    "#App Store\n",
    "#The largest Category here is Games, holding roughly 41.5 percent of the market. It is follwed by education with around 8 percent\n",
    "#and Entertainment holding approximately the same percentage.\n",
    "\n",
    "#In App Store the skew is heavily towards games, and seeing how google play has a good mix of apps designed for the entertainment\n",
    "#purposes maybe it would be a good idea to develop a game (Action and Simulation being the most popular in google play).\n",
    "#This of course is speculation at this level, since we have not yet\n",
    "#looked at the number of downloads and ratings and reviews of the apps, and without those, all we can tell is what the majority\n",
    "#of apps are, but not their popularity.\n",
    "\n",
    "#Of course the assumption here would be that most apps are designed to satisfy the largest demand."
   ]
  },
  {
   "cell_type": "code",
   "execution_count": 59,
   "metadata": {},
   "outputs": [],
   "source": [
    "#lets look at an average number of installs for each genre in google play.\n",
    "#Since this information is missing in the app store dataset, we will have to instead consider the average number of reviews"
   ]
  },
  {
   "cell_type": "code",
   "execution_count": 60,
   "metadata": {},
   "outputs": [],
   "source": [
    "#App store\n",
    "\n",
    "av_num_ratings = {}\n",
    "\n",
    "for unique in prime_genre_freq:\n",
    "    sum_ratings = 0\n",
    "    sum_apps = 0\n",
    "    for entry in app_store_final[1:]:\n",
    "        genre_app = entry[12]\n",
    "        if genre_app == unique:\n",
    "            sum_ratings += float(entry[6]) # the number of ratings here added to sum ratings\n",
    "            sum_apps +=1\n",
    "            \n",
    "    av_num_ratings[unique] = (sum_ratings/sum_apps)\n",
    "    \n",
    "sorted_av_num_ratings = sorted(freq_table_as_tuple_table(av_num_ratings), reverse = True)    "
   ]
  },
  {
   "cell_type": "code",
   "execution_count": 61,
   "metadata": {},
   "outputs": [
    {
     "data": {
      "text/plain": [
       "[(10656.236363636364, 'Photo & Video'),\n",
       " (1628.906976744186, 'Shopping'),\n",
       " (1325.7857142857142, 'Social Networking'),\n",
       " (981.92, 'Travel'),\n",
       " (820.3333333333334, 'Productivity'),\n",
       " (611.7857142857143, 'Weather'),\n",
       " (375.7345132743363, 'Entertainment'),\n",
       " (315.0689655172414, 'News'),\n",
       " (235.10344827586206, 'Finance'),\n",
       " (193.67741935483872, 'Sports'),\n",
       " (162.14882943143812, 'Games'),\n",
       " (153.0, 'Business'),\n",
       " (121.65789473684211, 'Education'),\n",
       " (82.88461538461539, 'Utilities'),\n",
       " (71.90566037735849, 'Lifestyle'),\n",
       " (62.0, 'Music'),\n",
       " (54.35087719298246, 'Book'),\n",
       " (44.32432432432432, 'Health & Fitness'),\n",
       " (15.782608695652174, 'Food & Drink'),\n",
       " (14.933333333333334, 'Reference'),\n",
       " (14.45, 'Navigation'),\n",
       " (3.0, 'Medical'),\n",
       " (0.0, 'Catalogs')]"
      ]
     },
     "execution_count": 61,
     "metadata": {},
     "output_type": "execute_result"
    }
   ],
   "source": [
    "sorted_av_num_ratings #surprising results, but first, lets compute this metric for the google play data"
   ]
  },
  {
   "cell_type": "code",
   "execution_count": 62,
   "metadata": {},
   "outputs": [],
   "source": [
    "#The problem with the installs column is that the entries are not very precise, eg 10000+, 1000000+ and so on.\n",
    "#We do not require great precision here, so we will treat an app with 100000+ installs as an app with 100000 installs. (at least)"
   ]
  },
  {
   "cell_type": "code",
   "execution_count": 63,
   "metadata": {},
   "outputs": [],
   "source": [
    "#Google play category\n",
    "\n",
    "av_num_installs = {}\n",
    "\n",
    "for cat in category_freq:\n",
    "    sum_installs = 0\n",
    "    sum_apps = 0\n",
    "    for entry in google_play_final[1:]:\n",
    "        cat_app = entry[1]\n",
    "        if cat_app == cat:\n",
    "            sum_installs += float(entry[5].replace('+','').replace(',','')) # stripping away the plusses and comas \n",
    "            sum_apps +=1                                                    # to add up the installs\n",
    "            \n",
    "    av_num_installs[cat] = (sum_installs/sum_apps)\n",
    "    \n",
    "sorted_av_num_installs_cat = sorted(freq_table_as_tuple_table(av_num_installs), reverse = True) "
   ]
  },
  {
   "cell_type": "code",
   "execution_count": 64,
   "metadata": {},
   "outputs": [
    {
     "data": {
      "text/plain": [
       "[(38456119.167247385, 'COMMUNICATION'),\n",
       " (24727872.452830188, 'VIDEO_PLAYERS'),\n",
       " (23253652.127118643, 'SOCIAL'),\n",
       " (17840110.40229885, 'PHOTOGRAPHY'),\n",
       " (16787331.344927534, 'PRODUCTIVITY'),\n",
       " (15588015.603248259, 'GAME'),\n",
       " (13984077.710144928, 'TRAVEL_AND_LOCAL'),\n",
       " (11640705.88235294, 'ENTERTAINMENT'),\n",
       " (10801391.298666667, 'TOOLS'),\n",
       " (9549178.467741935, 'NEWS_AND_MAGAZINES'),\n",
       " (8767811.894736841, 'BOOKS_AND_REFERENCE'),\n",
       " (7036877.311557789, 'SHOPPING'),\n",
       " (5201482.6122448975, 'PERSONALIZATION'),\n",
       " (5074486.197183099, 'WEATHER'),\n",
       " (4188821.9853479853, 'HEALTH_AND_FITNESS'),\n",
       " (4056941.7741935486, 'MAPS_AND_NAVIGATION'),\n",
       " (3697848.1731343283, 'FAMILY'),\n",
       " (3638640.1428571427, 'SPORTS'),\n",
       " (2021626.7857142857, 'ART_AND_DESIGN'),\n",
       " (1924897.7363636363, 'FOOD_AND_DRINK'),\n",
       " (1833495.145631068, 'EDUCATION'),\n",
       " (1712290.1474201474, 'BUSINESS'),\n",
       " (1437816.2687861272, 'LIFESTYLE'),\n",
       " (1387692.475609756, 'FINANCE'),\n",
       " (1331540.5616438356, 'HOUSE_AND_HOME'),\n",
       " (854028.8303030303, 'DATING'),\n",
       " (817657.2727272727, 'COMICS'),\n",
       " (647317.8170731707, 'AUTO_AND_VEHICLES'),\n",
       " (638503.734939759, 'LIBRARIES_AND_DEMO'),\n",
       " (542603.6206896552, 'PARENTING'),\n",
       " (513151.88679245283, 'BEAUTY'),\n",
       " (253542.22222222222, 'EVENTS'),\n",
       " (120550.61980830671, 'MEDICAL')]"
      ]
     },
     "execution_count": 64,
     "metadata": {},
     "output_type": "execute_result"
    }
   ],
   "source": [
    "sorted_av_num_installs_cat"
   ]
  },
  {
   "cell_type": "code",
   "execution_count": 65,
   "metadata": {},
   "outputs": [
    {
     "data": {
      "text/plain": [
       "[(38456119.167247385, 'Communication'),\n",
       " (35333333.333333336, 'Adventure;Action & Adventure'),\n",
       " (24947335.796178345, 'Video Players & Editors'),\n",
       " (23253652.127118643, 'Social'),\n",
       " (22888365.48780488, 'Arcade'),\n",
       " (19569221.602564104, 'Casual'),\n",
       " (18366666.666666668, 'Puzzle;Action & Adventure'),\n",
       " (17840110.40229885, 'Photography'),\n",
       " (17016666.666666668, 'Educational;Action & Adventure'),\n",
       " (16787331.344927534, 'Productivity'),\n",
       " (15910645.681818182, 'Racing'),\n",
       " (14051476.145631067, 'Travel & Local'),\n",
       " (12916666.666666666, 'Casual;Action & Adventure'),\n",
       " (12603588.872727273, 'Action'),\n",
       " (11339901.3125, 'Strategy'),\n",
       " (10802461.246995995, 'Tools'),\n",
       " (10000000.0, 'Tools;Education'),\n",
       " (10000000.0, 'Role Playing;Brain Games'),\n",
       " (10000000.0, 'Lifestyle;Pretend Play'),\n",
       " (10000000.0, 'Casual;Music & Video'),\n",
       " (10000000.0, 'Card;Action & Adventure'),\n",
       " (10000000.0, 'Adventure;Education'),\n",
       " (9549178.467741935, 'News & Magazines'),\n",
       " (9445583.333333334, 'Music'),\n",
       " (9375000.0, 'Educational;Pretend Play'),\n",
       " (9280666.666666666, 'Puzzle;Brain Games'),\n",
       " (9094458.695652174, 'Word'),\n",
       " (8816666.666666666, 'Racing;Action & Adventure'),\n",
       " (8767811.894736841, 'Books & Reference'),\n",
       " (8302861.91, 'Puzzle'),\n",
       " (7500000.0, 'Video Players & Editors;Music & Video'),\n",
       " (7036877.311557789, 'Shopping'),\n",
       " (7000000.0, 'Role Playing;Action & Adventure'),\n",
       " (6957142.857142857, 'Casual;Pretend Play'),\n",
       " (6413333.333333333, 'Entertainment;Music & Video'),\n",
       " (5888888.888888889, 'Action;Action & Adventure'),\n",
       " (5602792.775092937, 'Entertainment'),\n",
       " (5333333.333333333, 'Education;Brain Games'),\n",
       " (5333333.333333333, 'Casual;Creativity'),\n",
       " (5275000.0, 'Role Playing;Pretend Play'),\n",
       " (5201482.6122448975, 'Personalization'),\n",
       " (5074486.197183099, 'Weather'),\n",
       " (5050000.0, 'Sports;Action & Adventure'),\n",
       " (5050000.0, 'Music;Music & Video'),\n",
       " (5000000.0, 'Video Players & Editors;Creativity'),\n",
       " (4922785.333333333, 'Adventure'),\n",
       " (4857142.857142857, 'Simulation;Action & Adventure'),\n",
       " (4759517.0, 'Education;Education'),\n",
       " (4759209.117647059, 'Board'),\n",
       " (4596842.615635179, 'Sports'),\n",
       " (4433333.333333333, 'Educational;Brain Games'),\n",
       " (4188821.9853479853, 'Health & Fitness'),\n",
       " (4056941.7741935486, 'Maps & Navigation'),\n",
       " (4000000.0, 'Entertainment;Creativity'),\n",
       " (3965645.421686747, 'Role Playing'),\n",
       " (3815462.5, 'Card'),\n",
       " (3475712.7027027025, 'Trivia'),\n",
       " (3475484.08839779, 'Simulation'),\n",
       " (3427910.5263157897, 'Casino'),\n",
       " (3314285.714285714, 'Entertainment;Brain Games'),\n",
       " (3190909.1818181816, 'Arcade;Action & Adventure'),\n",
       " (3000000.0, 'Entertainment;Pretend Play'),\n",
       " (3000000.0, 'Board;Action & Adventure'),\n",
       " (2875000.0, 'Education;Creativity'),\n",
       " (2333333.3333333335, 'Entertainment;Action & Adventure'),\n",
       " (2333333.3333333335, 'Educational;Creativity'),\n",
       " (2163482.6923076925, 'Art & Design'),\n",
       " (2033333.3333333333, 'Education;Music & Video'),\n",
       " (1924897.7363636363, 'Food & Drink'),\n",
       " (1800000.0, 'Education;Pretend Play'),\n",
       " (1737143.142857143, 'Educational;Education'),\n",
       " (1712290.1474201474, 'Business'),\n",
       " (1425916.6666666667, 'Casual;Brain Games'),\n",
       " (1412998.3449275363, 'Lifestyle'),\n",
       " (1387692.475609756, 'Finance'),\n",
       " (1331540.5616438356, 'House & Home'),\n",
       " (1118333.3333333333, 'Parenting;Music & Video'),\n",
       " (1000000.0, 'Strategy;Creativity'),\n",
       " (1000000.0, 'Strategy;Action & Adventure'),\n",
       " (1000000.0, 'Racing;Pretend Play'),\n",
       " (1000000.0, 'Parenting;Brain Games'),\n",
       " (1000000.0, 'Health & Fitness;Action & Adventure'),\n",
       " (1000000.0, 'Entertainment;Education'),\n",
       " (1000000.0, 'Education;Action & Adventure'),\n",
       " (1000000.0, 'Casual;Education'),\n",
       " (1000000.0, 'Arcade;Pretend Play'),\n",
       " (854028.8303030303, 'Dating'),\n",
       " (831873.1481481482, 'Comics'),\n",
       " (750000.0, 'Puzzle;Creativity'),\n",
       " (647317.8170731707, 'Auto & Vehicles'),\n",
       " (638503.734939759, 'Libraries & Demo'),\n",
       " (550185.4430379746, 'Education'),\n",
       " (550000.0, 'Simulation;Pretend Play'),\n",
       " (513151.88679245283, 'Beauty'),\n",
       " (500000.0, 'Strategy;Education'),\n",
       " (500000.0, 'Music & Audio;Music & Video'),\n",
       " (500000.0, 'Communication;Creativity'),\n",
       " (500000.0, 'Art & Design;Pretend Play'),\n",
       " (467977.5, 'Parenting'),\n",
       " (452857.14285714284, 'Parenting;Education'),\n",
       " (411184.8484848485, 'Educational'),\n",
       " (407142.85714285716, 'Board;Brain Games'),\n",
       " (285000.0, 'Art & Design;Creativity'),\n",
       " (253542.22222222222, 'Events'),\n",
       " (120550.61980830671, 'Medical'),\n",
       " (100000.0, 'Travel & Local;Action & Adventure'),\n",
       " (100000.0, 'Puzzle;Education'),\n",
       " (100000.0, 'Lifestyle;Education'),\n",
       " (100000.0, 'Health & Fitness;Education'),\n",
       " (100000.0, 'Art & Design;Action & Adventure'),\n",
       " (50000.0, 'Comics;Creativity'),\n",
       " (1000.0, 'Books & Reference;Education'),\n",
       " (500.0, 'Simulation;Education'),\n",
       " (100.0, 'Trivia;Education')]"
      ]
     },
     "execution_count": 65,
     "metadata": {},
     "output_type": "execute_result"
    }
   ],
   "source": [
    "# Google play genre\n",
    "av_num_installs = {}\n",
    "\n",
    "for genre in genre_freq:\n",
    "    sum_installs = 0\n",
    "    sum_apps = 0\n",
    "    for entry in google_play_final[1:]:\n",
    "        genre_app = entry[9]\n",
    "        if genre_app == genre:\n",
    "            sum_installs += float(entry[5].replace('+','').replace(',','')) # stripping away the plusses and comas \n",
    "            sum_apps +=1                                                    # to add up the installs\n",
    "            \n",
    "    av_num_installs[genre] = (sum_installs/sum_apps)\n",
    "    \n",
    "sorted_av_num_installs_genre = sorted(freq_table_as_tuple_table(av_num_installs), reverse = True) \n",
    "sorted_av_num_installs_genre"
   ]
  },
  {
   "cell_type": "code",
   "execution_count": 66,
   "metadata": {},
   "outputs": [],
   "source": [
    "#Contrary to the inital hypothesis we have that the most popular category of apps in google play is 'Communication'\n",
    "#despite this category not even making it into the top 10 of our frequency table for the total number of apps developed.\n",
    "#So it might be a good idea to develop an app in the 'Communication' category for the google play.\n",
    "\n",
    "#Looking at the similar metric for the app store, we see that the top 3 most popular categories (largest numbers of reviews)\n",
    "#are 'Photo & Video', \n",
    "# 'Shopping' and 'Social Networking'. From here we might deduce that an app developed for communication could essentially be\n",
    "# a social networking app, and sicne those seem to be the most popular and have a relatively smaller number of competitors\n",
    "#(other categories have more apps developed) we could conclude with recommending the developer creates a social networking app."
   ]
  },
  {
   "cell_type": "code",
   "execution_count": 67,
   "metadata": {},
   "outputs": [],
   "source": [
    "# Dataquest Project - Vladimir Sapozhnikov 26/06/21"
   ]
  },
  {
   "cell_type": "code",
   "execution_count": null,
   "metadata": {},
   "outputs": [],
   "source": []
  }
 ],
 "metadata": {
  "kernelspec": {
   "display_name": "Python 3",
   "language": "python",
   "name": "python3"
  },
  "language_info": {
   "codemirror_mode": {
    "name": "ipython",
    "version": 3
   },
   "file_extension": ".py",
   "mimetype": "text/x-python",
   "name": "python",
   "nbconvert_exporter": "python",
   "pygments_lexer": "ipython3",
   "version": "3.8.5"
  }
 },
 "nbformat": 4,
 "nbformat_minor": 5
}
