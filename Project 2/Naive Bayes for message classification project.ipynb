{
 "cells": [
  {
   "cell_type": "code",
   "execution_count": 1,
   "metadata": {},
   "outputs": [],
   "source": [
    "#In this DataQuest project, we use multinomial Naive Bayes algorithm\n",
    "#together with a dataset of 5k sms messages (that have aleady been classified\n",
    "#as spam or otherwise) to build a spam filter."
   ]
  },
  {
   "cell_type": "code",
   "execution_count": 2,
   "metadata": {},
   "outputs": [],
   "source": [
    "#The algorithm tries to answer the following:\n",
    "#what is the probability that this new message is spam given its content?\n",
    "#What is the probability that the new message is not spam given its content?\n",
    "\n",
    "#If the probability for spam is greater, the message is classified as spam.\n",
    "\n",
    "#The algorithm is called \"naive\" because we assume conditional independence\n",
    "#between words in a message to make the calculations tractable for messages\n",
    "#of all lengths, but this approach is quite \"naive\" in practice, as words\n",
    "#are often in a relationship of dependence.\n",
    "\n",
    "#Despite this assumption, the algorithm still works well in practice and we\n",
    "#will demonstrate this in this DataQuest project."
   ]
  },
  {
   "cell_type": "code",
   "execution_count": 3,
   "metadata": {},
   "outputs": [],
   "source": [
    "import numpy as np\n",
    "import pandas as pd"
   ]
  },
  {
   "cell_type": "code",
   "execution_count": 4,
   "metadata": {},
   "outputs": [],
   "source": [
    "sms = pd.read_csv(\"C:/Users/spzvl/OneDrive/Documents/Data/SMSSpamCollection\"\n",
    "                 ,sep=\"\\t\", header= None)"
   ]
  },
  {
   "cell_type": "code",
   "execution_count": 5,
   "metadata": {},
   "outputs": [],
   "source": [
    "sms.columns = [\"Label\", \"SMS\"]"
   ]
  },
  {
   "cell_type": "code",
   "execution_count": 6,
   "metadata": {},
   "outputs": [
    {
     "data": {
      "text/html": [
       "<div>\n",
       "<style scoped>\n",
       "    .dataframe tbody tr th:only-of-type {\n",
       "        vertical-align: middle;\n",
       "    }\n",
       "\n",
       "    .dataframe tbody tr th {\n",
       "        vertical-align: top;\n",
       "    }\n",
       "\n",
       "    .dataframe thead th {\n",
       "        text-align: right;\n",
       "    }\n",
       "</style>\n",
       "<table border=\"1\" class=\"dataframe\">\n",
       "  <thead>\n",
       "    <tr style=\"text-align: right;\">\n",
       "      <th></th>\n",
       "      <th>Label</th>\n",
       "      <th>SMS</th>\n",
       "    </tr>\n",
       "  </thead>\n",
       "  <tbody>\n",
       "    <tr>\n",
       "      <th>0</th>\n",
       "      <td>ham</td>\n",
       "      <td>Go until jurong point, crazy.. Available only ...</td>\n",
       "    </tr>\n",
       "    <tr>\n",
       "      <th>1</th>\n",
       "      <td>ham</td>\n",
       "      <td>Ok lar... Joking wif u oni...</td>\n",
       "    </tr>\n",
       "    <tr>\n",
       "      <th>2</th>\n",
       "      <td>spam</td>\n",
       "      <td>Free entry in 2 a wkly comp to win FA Cup fina...</td>\n",
       "    </tr>\n",
       "    <tr>\n",
       "      <th>3</th>\n",
       "      <td>ham</td>\n",
       "      <td>U dun say so early hor... U c already then say...</td>\n",
       "    </tr>\n",
       "    <tr>\n",
       "      <th>4</th>\n",
       "      <td>ham</td>\n",
       "      <td>Nah I don't think he goes to usf, he lives aro...</td>\n",
       "    </tr>\n",
       "  </tbody>\n",
       "</table>\n",
       "</div>"
      ],
      "text/plain": [
       "  Label                                                SMS\n",
       "0   ham  Go until jurong point, crazy.. Available only ...\n",
       "1   ham                      Ok lar... Joking wif u oni...\n",
       "2  spam  Free entry in 2 a wkly comp to win FA Cup fina...\n",
       "3   ham  U dun say so early hor... U c already then say...\n",
       "4   ham  Nah I don't think he goes to usf, he lives aro..."
      ]
     },
     "execution_count": 6,
     "metadata": {},
     "output_type": "execute_result"
    }
   ],
   "source": [
    "sms.head()"
   ]
  },
  {
   "cell_type": "code",
   "execution_count": 7,
   "metadata": {},
   "outputs": [
    {
     "name": "stdout",
     "output_type": "stream",
     "text": [
      "<class 'pandas.core.frame.DataFrame'>\n",
      "RangeIndex: 5572 entries, 0 to 5571\n",
      "Data columns (total 2 columns):\n",
      " #   Column  Non-Null Count  Dtype \n",
      "---  ------  --------------  ----- \n",
      " 0   Label   5572 non-null   object\n",
      " 1   SMS     5572 non-null   object\n",
      "dtypes: object(2)\n",
      "memory usage: 87.2+ KB\n"
     ]
    }
   ],
   "source": [
    "sms.info() #Dataset has 5572 entries"
   ]
  },
  {
   "cell_type": "code",
   "execution_count": 8,
   "metadata": {},
   "outputs": [
    {
     "data": {
      "text/plain": [
       "ham     86.593683\n",
       "spam    13.406317\n",
       "Name: Label, dtype: float64"
      ]
     },
     "execution_count": 8,
     "metadata": {},
     "output_type": "execute_result"
    }
   ],
   "source": [
    "sms[\"Label\"].value_counts(normalize = True)*100"
   ]
  },
  {
   "cell_type": "code",
   "execution_count": 9,
   "metadata": {},
   "outputs": [],
   "source": [
    "#13.4% of the entries are spam in this dataset, while 86.6% are not spam (we call it \"ham\" here)"
   ]
  },
  {
   "cell_type": "code",
   "execution_count": 10,
   "metadata": {},
   "outputs": [],
   "source": [
    "#now that we have a better undertanding of how our data looks, we can move on\n",
    "#to designing our software.\n",
    "#First, lets plan out how we will test to see that it works.\n",
    "#We can split the data into the \"test\" set and \"training\" set with the ratio\n",
    "#20/80 respectively. (It is important to have as much training as possible\n",
    "# but also have enough testing data) \n",
    "\n",
    "#We will treat the testing data as unclassified raw data and then compare\n",
    "#the results of our algorithm with the actual classifications of the messages in the test set."
   ]
  },
  {
   "cell_type": "code",
   "execution_count": 11,
   "metadata": {},
   "outputs": [],
   "source": [
    "#First we spilt the dataset as was said above, and shuffle it so that\n",
    "#spam is mixed with ham randomly."
   ]
  },
  {
   "cell_type": "code",
   "execution_count": 12,
   "metadata": {},
   "outputs": [
    {
     "name": "stdout",
     "output_type": "stream",
     "text": [
      "(4458, 2)\n",
      "(1114, 2)\n"
     ]
    }
   ],
   "source": [
    "#Shuffle our data so that the proportion of spam to ham is similar to that in the original dataset\n",
    "data_randomized = sms.sample(frac=1, random_state=1) #random state argument\n",
    "#added to make the results reproducible.\n",
    "\n",
    "#setting the proportions of the split.\n",
    "training_test_index = round(len(data_randomized) * 0.8)\n",
    "\n",
    "# Training/Test split\n",
    "sms_train = data_randomized[:training_test_index].reset_index(drop=True)\n",
    "sms_test = data_randomized[training_test_index:].reset_index(drop=True)\n",
    "\n",
    "print(sms_train.shape)\n",
    "print(sms_test.shape)"
   ]
  },
  {
   "cell_type": "code",
   "execution_count": 13,
   "metadata": {},
   "outputs": [
    {
     "data": {
      "text/plain": [
       "ham     86.54105\n",
       "spam    13.45895\n",
       "Name: Label, dtype: float64"
      ]
     },
     "execution_count": 13,
     "metadata": {},
     "output_type": "execute_result"
    }
   ],
   "source": [
    "sms_train[\"Label\"].value_counts(normalize = True)*100"
   ]
  },
  {
   "cell_type": "code",
   "execution_count": 14,
   "metadata": {},
   "outputs": [
    {
     "data": {
      "text/plain": [
       "ham     86.804309\n",
       "spam    13.195691\n",
       "Name: Label, dtype: float64"
      ]
     },
     "execution_count": 14,
     "metadata": {},
     "output_type": "execute_result"
    }
   ],
   "source": [
    "sms_test[\"Label\"].value_counts(normalize = True)*100"
   ]
  },
  {
   "cell_type": "code",
   "execution_count": 15,
   "metadata": {},
   "outputs": [
    {
     "data": {
      "text/html": [
       "<div>\n",
       "<style scoped>\n",
       "    .dataframe tbody tr th:only-of-type {\n",
       "        vertical-align: middle;\n",
       "    }\n",
       "\n",
       "    .dataframe tbody tr th {\n",
       "        vertical-align: top;\n",
       "    }\n",
       "\n",
       "    .dataframe thead th {\n",
       "        text-align: right;\n",
       "    }\n",
       "</style>\n",
       "<table border=\"1\" class=\"dataframe\">\n",
       "  <thead>\n",
       "    <tr style=\"text-align: right;\">\n",
       "      <th></th>\n",
       "      <th>Label</th>\n",
       "      <th>SMS</th>\n",
       "    </tr>\n",
       "  </thead>\n",
       "  <tbody>\n",
       "    <tr>\n",
       "      <th>0</th>\n",
       "      <td>ham</td>\n",
       "      <td>Yep, by the pretty sculpture</td>\n",
       "    </tr>\n",
       "    <tr>\n",
       "      <th>1</th>\n",
       "      <td>ham</td>\n",
       "      <td>Yes, princess. Are you going to make me moan?</td>\n",
       "    </tr>\n",
       "    <tr>\n",
       "      <th>2</th>\n",
       "      <td>ham</td>\n",
       "      <td>Welp apparently he retired</td>\n",
       "    </tr>\n",
       "    <tr>\n",
       "      <th>3</th>\n",
       "      <td>ham</td>\n",
       "      <td>Havent.</td>\n",
       "    </tr>\n",
       "    <tr>\n",
       "      <th>4</th>\n",
       "      <td>ham</td>\n",
       "      <td>I forgot 2 ask ü all smth.. There's a card on ...</td>\n",
       "    </tr>\n",
       "  </tbody>\n",
       "</table>\n",
       "</div>"
      ],
      "text/plain": [
       "  Label                                                SMS\n",
       "0   ham                       Yep, by the pretty sculpture\n",
       "1   ham      Yes, princess. Are you going to make me moan?\n",
       "2   ham                         Welp apparently he retired\n",
       "3   ham                                            Havent.\n",
       "4   ham  I forgot 2 ask ü all smth.. There's a card on ..."
      ]
     },
     "execution_count": 15,
     "metadata": {},
     "output_type": "execute_result"
    }
   ],
   "source": [
    "sms_train.head()"
   ]
  },
  {
   "cell_type": "code",
   "execution_count": 16,
   "metadata": {},
   "outputs": [],
   "source": [
    "#As we can see the proportions of spam/ham in the train and test sets correspond to\n",
    "#those in our full dataset, indicating that our samples are representative of the data in general."
   ]
  },
  {
   "cell_type": "code",
   "execution_count": 17,
   "metadata": {},
   "outputs": [],
   "source": [
    "#Now we need to transform our data so it could be used together with the \n",
    "#Bayes algorithm. \n",
    "#First we remove all of the punctuation and make all words lowercase."
   ]
  },
  {
   "cell_type": "code",
   "execution_count": 18,
   "metadata": {},
   "outputs": [],
   "source": [
    "sms_train[\"SMS\"] = sms_train[\"SMS\"].str.replace(\"\\W\", \" \")\n",
    "#Using \"\\W\" regex we identify all punctuation and replace it by a space."
   ]
  },
  {
   "cell_type": "code",
   "execution_count": 19,
   "metadata": {},
   "outputs": [],
   "source": [
    "sms_train[\"SMS\"] = sms_train[\"SMS\"].str.lower() #make all words lowercase."
   ]
  },
  {
   "cell_type": "code",
   "execution_count": 20,
   "metadata": {},
   "outputs": [
    {
     "data": {
      "text/html": [
       "<div>\n",
       "<style scoped>\n",
       "    .dataframe tbody tr th:only-of-type {\n",
       "        vertical-align: middle;\n",
       "    }\n",
       "\n",
       "    .dataframe tbody tr th {\n",
       "        vertical-align: top;\n",
       "    }\n",
       "\n",
       "    .dataframe thead th {\n",
       "        text-align: right;\n",
       "    }\n",
       "</style>\n",
       "<table border=\"1\" class=\"dataframe\">\n",
       "  <thead>\n",
       "    <tr style=\"text-align: right;\">\n",
       "      <th></th>\n",
       "      <th>Label</th>\n",
       "      <th>SMS</th>\n",
       "    </tr>\n",
       "  </thead>\n",
       "  <tbody>\n",
       "    <tr>\n",
       "      <th>0</th>\n",
       "      <td>ham</td>\n",
       "      <td>yep  by the pretty sculpture</td>\n",
       "    </tr>\n",
       "    <tr>\n",
       "      <th>1</th>\n",
       "      <td>ham</td>\n",
       "      <td>yes  princess  are you going to make me moan</td>\n",
       "    </tr>\n",
       "    <tr>\n",
       "      <th>2</th>\n",
       "      <td>ham</td>\n",
       "      <td>welp apparently he retired</td>\n",
       "    </tr>\n",
       "    <tr>\n",
       "      <th>3</th>\n",
       "      <td>ham</td>\n",
       "      <td>havent</td>\n",
       "    </tr>\n",
       "    <tr>\n",
       "      <th>4</th>\n",
       "      <td>ham</td>\n",
       "      <td>i forgot 2 ask ü all smth   there s a card on ...</td>\n",
       "    </tr>\n",
       "  </tbody>\n",
       "</table>\n",
       "</div>"
      ],
      "text/plain": [
       "  Label                                                SMS\n",
       "0   ham                       yep  by the pretty sculpture\n",
       "1   ham      yes  princess  are you going to make me moan \n",
       "2   ham                         welp apparently he retired\n",
       "3   ham                                            havent \n",
       "4   ham  i forgot 2 ask ü all smth   there s a card on ..."
      ]
     },
     "execution_count": 20,
     "metadata": {},
     "output_type": "execute_result"
    }
   ],
   "source": [
    "sms_train.head()"
   ]
  },
  {
   "cell_type": "code",
   "execution_count": 21,
   "metadata": {},
   "outputs": [],
   "source": [
    "#creating a set of unique words from the training set (called vocabulary)\n",
    "sms_train[\"SMS\"] = sms_train[\"SMS\"].str.split() #splitting each word from each message into separate strings \n",
    "vocabulary = []\n",
    "for entry in sms_train[\"SMS\"]:\n",
    "    for word in entry:\n",
    "        vocabulary.append(word)     #adding all words into the list\n",
    "        \n",
    "vocabulary = set(vocabulary) #removes all duplicates by turning our list to a set\n",
    "vocabulary = list(vocabulary) #converting back to the list"
   ]
  },
  {
   "cell_type": "code",
   "execution_count": 22,
   "metadata": {},
   "outputs": [
    {
     "data": {
      "text/plain": [
       "7783"
      ]
     },
     "execution_count": 22,
     "metadata": {},
     "output_type": "execute_result"
    }
   ],
   "source": [
    "len(vocabulary) #number of unique words in our list."
   ]
  },
  {
   "cell_type": "code",
   "execution_count": 23,
   "metadata": {},
   "outputs": [],
   "source": [
    "#This block of code was taken from DataQuest\n",
    "#It creates a dictionary containing members of our vocabulary as keys and the number of times\n",
    "# each word from our vocabulary was mentioned in each message as values for those keys, by using nested loops \n",
    "#and the\n",
    "#enumerate function.\n",
    "\n",
    "#We then convert that dictionary to a dataframe \n",
    "word_counts_per_sms = {unique_word: [0] * len(sms_train['SMS']) for unique_word\n",
    "                       in vocabulary}\n",
    "\n",
    "for index, sms in enumerate(sms_train['SMS']):\n",
    "    for word in sms:\n",
    "        word_counts_per_sms[word][index] += 1"
   ]
  },
  {
   "cell_type": "code",
   "execution_count": 24,
   "metadata": {},
   "outputs": [],
   "source": [
    "sms_train_transformed = pd.DataFrame(word_counts_per_sms)"
   ]
  },
  {
   "cell_type": "code",
   "execution_count": 25,
   "metadata": {},
   "outputs": [
    {
     "data": {
      "text/html": [
       "<div>\n",
       "<style scoped>\n",
       "    .dataframe tbody tr th:only-of-type {\n",
       "        vertical-align: middle;\n",
       "    }\n",
       "\n",
       "    .dataframe tbody tr th {\n",
       "        vertical-align: top;\n",
       "    }\n",
       "\n",
       "    .dataframe thead th {\n",
       "        text-align: right;\n",
       "    }\n",
       "</style>\n",
       "<table border=\"1\" class=\"dataframe\">\n",
       "  <thead>\n",
       "    <tr style=\"text-align: right;\">\n",
       "      <th></th>\n",
       "      <th>lifetime</th>\n",
       "      <th>watchng</th>\n",
       "      <th>08717205546</th>\n",
       "      <th>deep</th>\n",
       "      <th>parts</th>\n",
       "      <th>rcb</th>\n",
       "      <th>4get</th>\n",
       "      <th>blue</th>\n",
       "      <th>ceiling</th>\n",
       "      <th>personal</th>\n",
       "      <th>...</th>\n",
       "      <th>arranging</th>\n",
       "      <th>ringing</th>\n",
       "      <th>befor</th>\n",
       "      <th>neighbor</th>\n",
       "      <th>detroit</th>\n",
       "      <th>varaya</th>\n",
       "      <th>arcade</th>\n",
       "      <th>act</th>\n",
       "      <th>being</th>\n",
       "      <th>docs</th>\n",
       "    </tr>\n",
       "  </thead>\n",
       "  <tbody>\n",
       "    <tr>\n",
       "      <th>0</th>\n",
       "      <td>0</td>\n",
       "      <td>0</td>\n",
       "      <td>0</td>\n",
       "      <td>0</td>\n",
       "      <td>0</td>\n",
       "      <td>0</td>\n",
       "      <td>0</td>\n",
       "      <td>0</td>\n",
       "      <td>0</td>\n",
       "      <td>0</td>\n",
       "      <td>...</td>\n",
       "      <td>0</td>\n",
       "      <td>0</td>\n",
       "      <td>0</td>\n",
       "      <td>0</td>\n",
       "      <td>0</td>\n",
       "      <td>0</td>\n",
       "      <td>0</td>\n",
       "      <td>0</td>\n",
       "      <td>0</td>\n",
       "      <td>0</td>\n",
       "    </tr>\n",
       "    <tr>\n",
       "      <th>1</th>\n",
       "      <td>0</td>\n",
       "      <td>0</td>\n",
       "      <td>0</td>\n",
       "      <td>0</td>\n",
       "      <td>0</td>\n",
       "      <td>0</td>\n",
       "      <td>0</td>\n",
       "      <td>0</td>\n",
       "      <td>0</td>\n",
       "      <td>0</td>\n",
       "      <td>...</td>\n",
       "      <td>0</td>\n",
       "      <td>0</td>\n",
       "      <td>0</td>\n",
       "      <td>0</td>\n",
       "      <td>0</td>\n",
       "      <td>0</td>\n",
       "      <td>0</td>\n",
       "      <td>0</td>\n",
       "      <td>0</td>\n",
       "      <td>0</td>\n",
       "    </tr>\n",
       "    <tr>\n",
       "      <th>2</th>\n",
       "      <td>0</td>\n",
       "      <td>0</td>\n",
       "      <td>0</td>\n",
       "      <td>0</td>\n",
       "      <td>0</td>\n",
       "      <td>0</td>\n",
       "      <td>0</td>\n",
       "      <td>0</td>\n",
       "      <td>0</td>\n",
       "      <td>0</td>\n",
       "      <td>...</td>\n",
       "      <td>0</td>\n",
       "      <td>0</td>\n",
       "      <td>0</td>\n",
       "      <td>0</td>\n",
       "      <td>0</td>\n",
       "      <td>0</td>\n",
       "      <td>0</td>\n",
       "      <td>0</td>\n",
       "      <td>0</td>\n",
       "      <td>0</td>\n",
       "    </tr>\n",
       "    <tr>\n",
       "      <th>3</th>\n",
       "      <td>0</td>\n",
       "      <td>0</td>\n",
       "      <td>0</td>\n",
       "      <td>0</td>\n",
       "      <td>0</td>\n",
       "      <td>0</td>\n",
       "      <td>0</td>\n",
       "      <td>0</td>\n",
       "      <td>0</td>\n",
       "      <td>0</td>\n",
       "      <td>...</td>\n",
       "      <td>0</td>\n",
       "      <td>0</td>\n",
       "      <td>0</td>\n",
       "      <td>0</td>\n",
       "      <td>0</td>\n",
       "      <td>0</td>\n",
       "      <td>0</td>\n",
       "      <td>0</td>\n",
       "      <td>0</td>\n",
       "      <td>0</td>\n",
       "    </tr>\n",
       "    <tr>\n",
       "      <th>4</th>\n",
       "      <td>0</td>\n",
       "      <td>0</td>\n",
       "      <td>0</td>\n",
       "      <td>0</td>\n",
       "      <td>0</td>\n",
       "      <td>0</td>\n",
       "      <td>0</td>\n",
       "      <td>0</td>\n",
       "      <td>0</td>\n",
       "      <td>0</td>\n",
       "      <td>...</td>\n",
       "      <td>0</td>\n",
       "      <td>0</td>\n",
       "      <td>0</td>\n",
       "      <td>0</td>\n",
       "      <td>0</td>\n",
       "      <td>0</td>\n",
       "      <td>0</td>\n",
       "      <td>0</td>\n",
       "      <td>0</td>\n",
       "      <td>0</td>\n",
       "    </tr>\n",
       "  </tbody>\n",
       "</table>\n",
       "<p>5 rows × 7783 columns</p>\n",
       "</div>"
      ],
      "text/plain": [
       "   lifetime  watchng  08717205546  deep  parts  rcb  4get  blue  ceiling  \\\n",
       "0         0        0            0     0      0    0     0     0        0   \n",
       "1         0        0            0     0      0    0     0     0        0   \n",
       "2         0        0            0     0      0    0     0     0        0   \n",
       "3         0        0            0     0      0    0     0     0        0   \n",
       "4         0        0            0     0      0    0     0     0        0   \n",
       "\n",
       "   personal  ...  arranging  ringing  befor  neighbor  detroit  varaya  \\\n",
       "0         0  ...          0        0      0         0        0       0   \n",
       "1         0  ...          0        0      0         0        0       0   \n",
       "2         0  ...          0        0      0         0        0       0   \n",
       "3         0  ...          0        0      0         0        0       0   \n",
       "4         0  ...          0        0      0         0        0       0   \n",
       "\n",
       "   arcade  act  being  docs  \n",
       "0       0    0      0     0  \n",
       "1       0    0      0     0  \n",
       "2       0    0      0     0  \n",
       "3       0    0      0     0  \n",
       "4       0    0      0     0  \n",
       "\n",
       "[5 rows x 7783 columns]"
      ]
     },
     "execution_count": 25,
     "metadata": {},
     "output_type": "execute_result"
    }
   ],
   "source": [
    "sms_train_transformed.head()"
   ]
  },
  {
   "cell_type": "code",
   "execution_count": 26,
   "metadata": {},
   "outputs": [],
   "source": [
    "transformed_train = pd.concat([sms_train, sms_train_transformed], axis = 1)\n",
    "#concatenating the resulting dataset and the data containing messages and labels"
   ]
  },
  {
   "cell_type": "code",
   "execution_count": 29,
   "metadata": {},
   "outputs": [
    {
     "data": {
      "text/html": [
       "<div>\n",
       "<style scoped>\n",
       "    .dataframe tbody tr th:only-of-type {\n",
       "        vertical-align: middle;\n",
       "    }\n",
       "\n",
       "    .dataframe tbody tr th {\n",
       "        vertical-align: top;\n",
       "    }\n",
       "\n",
       "    .dataframe thead th {\n",
       "        text-align: right;\n",
       "    }\n",
       "</style>\n",
       "<table border=\"1\" class=\"dataframe\">\n",
       "  <thead>\n",
       "    <tr style=\"text-align: right;\">\n",
       "      <th></th>\n",
       "      <th>Label</th>\n",
       "      <th>SMS</th>\n",
       "      <th>lifetime</th>\n",
       "      <th>watchng</th>\n",
       "      <th>08717205546</th>\n",
       "      <th>deep</th>\n",
       "      <th>parts</th>\n",
       "      <th>rcb</th>\n",
       "      <th>4get</th>\n",
       "      <th>blue</th>\n",
       "      <th>...</th>\n",
       "      <th>arranging</th>\n",
       "      <th>ringing</th>\n",
       "      <th>befor</th>\n",
       "      <th>neighbor</th>\n",
       "      <th>detroit</th>\n",
       "      <th>varaya</th>\n",
       "      <th>arcade</th>\n",
       "      <th>act</th>\n",
       "      <th>being</th>\n",
       "      <th>docs</th>\n",
       "    </tr>\n",
       "  </thead>\n",
       "  <tbody>\n",
       "    <tr>\n",
       "      <th>0</th>\n",
       "      <td>ham</td>\n",
       "      <td>[yep, by, the, pretty, sculpture]</td>\n",
       "      <td>0</td>\n",
       "      <td>0</td>\n",
       "      <td>0</td>\n",
       "      <td>0</td>\n",
       "      <td>0</td>\n",
       "      <td>0</td>\n",
       "      <td>0</td>\n",
       "      <td>0</td>\n",
       "      <td>...</td>\n",
       "      <td>0</td>\n",
       "      <td>0</td>\n",
       "      <td>0</td>\n",
       "      <td>0</td>\n",
       "      <td>0</td>\n",
       "      <td>0</td>\n",
       "      <td>0</td>\n",
       "      <td>0</td>\n",
       "      <td>0</td>\n",
       "      <td>0</td>\n",
       "    </tr>\n",
       "    <tr>\n",
       "      <th>1</th>\n",
       "      <td>ham</td>\n",
       "      <td>[yes, princess, are, you, going, to, make, me,...</td>\n",
       "      <td>0</td>\n",
       "      <td>0</td>\n",
       "      <td>0</td>\n",
       "      <td>0</td>\n",
       "      <td>0</td>\n",
       "      <td>0</td>\n",
       "      <td>0</td>\n",
       "      <td>0</td>\n",
       "      <td>...</td>\n",
       "      <td>0</td>\n",
       "      <td>0</td>\n",
       "      <td>0</td>\n",
       "      <td>0</td>\n",
       "      <td>0</td>\n",
       "      <td>0</td>\n",
       "      <td>0</td>\n",
       "      <td>0</td>\n",
       "      <td>0</td>\n",
       "      <td>0</td>\n",
       "    </tr>\n",
       "    <tr>\n",
       "      <th>2</th>\n",
       "      <td>ham</td>\n",
       "      <td>[welp, apparently, he, retired]</td>\n",
       "      <td>0</td>\n",
       "      <td>0</td>\n",
       "      <td>0</td>\n",
       "      <td>0</td>\n",
       "      <td>0</td>\n",
       "      <td>0</td>\n",
       "      <td>0</td>\n",
       "      <td>0</td>\n",
       "      <td>...</td>\n",
       "      <td>0</td>\n",
       "      <td>0</td>\n",
       "      <td>0</td>\n",
       "      <td>0</td>\n",
       "      <td>0</td>\n",
       "      <td>0</td>\n",
       "      <td>0</td>\n",
       "      <td>0</td>\n",
       "      <td>0</td>\n",
       "      <td>0</td>\n",
       "    </tr>\n",
       "    <tr>\n",
       "      <th>3</th>\n",
       "      <td>ham</td>\n",
       "      <td>[havent]</td>\n",
       "      <td>0</td>\n",
       "      <td>0</td>\n",
       "      <td>0</td>\n",
       "      <td>0</td>\n",
       "      <td>0</td>\n",
       "      <td>0</td>\n",
       "      <td>0</td>\n",
       "      <td>0</td>\n",
       "      <td>...</td>\n",
       "      <td>0</td>\n",
       "      <td>0</td>\n",
       "      <td>0</td>\n",
       "      <td>0</td>\n",
       "      <td>0</td>\n",
       "      <td>0</td>\n",
       "      <td>0</td>\n",
       "      <td>0</td>\n",
       "      <td>0</td>\n",
       "      <td>0</td>\n",
       "    </tr>\n",
       "    <tr>\n",
       "      <th>4</th>\n",
       "      <td>ham</td>\n",
       "      <td>[i, forgot, 2, ask, ü, all, smth, there, s, a,...</td>\n",
       "      <td>0</td>\n",
       "      <td>0</td>\n",
       "      <td>0</td>\n",
       "      <td>0</td>\n",
       "      <td>0</td>\n",
       "      <td>0</td>\n",
       "      <td>0</td>\n",
       "      <td>0</td>\n",
       "      <td>...</td>\n",
       "      <td>0</td>\n",
       "      <td>0</td>\n",
       "      <td>0</td>\n",
       "      <td>0</td>\n",
       "      <td>0</td>\n",
       "      <td>0</td>\n",
       "      <td>0</td>\n",
       "      <td>0</td>\n",
       "      <td>0</td>\n",
       "      <td>0</td>\n",
       "    </tr>\n",
       "  </tbody>\n",
       "</table>\n",
       "<p>5 rows × 7785 columns</p>\n",
       "</div>"
      ],
      "text/plain": [
       "  Label                                                SMS  lifetime  watchng  \\\n",
       "0   ham                  [yep, by, the, pretty, sculpture]         0        0   \n",
       "1   ham  [yes, princess, are, you, going, to, make, me,...         0        0   \n",
       "2   ham                    [welp, apparently, he, retired]         0        0   \n",
       "3   ham                                           [havent]         0        0   \n",
       "4   ham  [i, forgot, 2, ask, ü, all, smth, there, s, a,...         0        0   \n",
       "\n",
       "   08717205546  deep  parts  rcb  4get  blue  ...  arranging  ringing  befor  \\\n",
       "0            0     0      0    0     0     0  ...          0        0      0   \n",
       "1            0     0      0    0     0     0  ...          0        0      0   \n",
       "2            0     0      0    0     0     0  ...          0        0      0   \n",
       "3            0     0      0    0     0     0  ...          0        0      0   \n",
       "4            0     0      0    0     0     0  ...          0        0      0   \n",
       "\n",
       "   neighbor  detroit  varaya  arcade  act  being  docs  \n",
       "0         0        0       0       0    0      0     0  \n",
       "1         0        0       0       0    0      0     0  \n",
       "2         0        0       0       0    0      0     0  \n",
       "3         0        0       0       0    0      0     0  \n",
       "4         0        0       0       0    0      0     0  \n",
       "\n",
       "[5 rows x 7785 columns]"
      ]
     },
     "execution_count": 29,
     "metadata": {},
     "output_type": "execute_result"
    }
   ],
   "source": [
    "transformed_train.head()\n",
    "#the resulting dataframe.\n",
    "#Here, each row represents an entry of the dataset containing the message, the label (spam or ham) and the\n",
    "#number of times\n",
    "#a word from our vocabulary was mentioned in that particular message."
   ]
  },
  {
   "cell_type": "code",
   "execution_count": 30,
   "metadata": {},
   "outputs": [],
   "source": [
    "#Now lets prepare all of the variables that will be used in our calculations\n",
    "\n",
    "spam = transformed_train[transformed_train[\"Label\"] == \"spam\"]\n",
    "ham = transformed_train[transformed_train[\"Label\"] == \"ham\"]\n",
    "p_spam = len(spam)/len(transformed_train) #probability that a message is spam\n",
    "p_ham = len(ham)/len(transformed_train)#probability that a message is ham\n",
    "N_spam = sum(spam[\"SMS\"].apply(len))#total number of words in all spam messages\n",
    "N_ham = sum(ham[\"SMS\"].apply(len))#total number of words in all ham messages\n",
    "N_vocab = len(vocabulary)#number of words in our vocabulary\n",
    "alpha = 1 #our smoothing parameter"
   ]
  },
  {
   "cell_type": "code",
   "execution_count": 31,
   "metadata": {},
   "outputs": [],
   "source": [
    "#After defining all the variables we can calculate all of our parameters required for the algorithm\n",
    "\n",
    "dict_spam = dict.fromkeys(vocabulary, 0)#creating two initially empty dictionaries with members of the \n",
    "#vocabulary as keys.\n",
    "dict_ham = dict.fromkeys(vocabulary, 0) #One is used for spam while the other is for ham\n",
    "for word in vocabulary:\n",
    "    n_w_given_spam = sum(spam[word]) #number of times a word is mentioned in spam\n",
    "    p_w_given_spam = (n_w_given_spam + alpha) / (N_spam + alpha*N_vocab)\n",
    "    dict_spam[word] = p_w_given_spam #attaching the probability that a word is mentioned given the message is \n",
    "    #spam to the dictionary with that word as key\n",
    "  \n",
    "    \n",
    "    n_w_given_ham = sum(ham[word]) #number of times a word is mentioned in ham\n",
    "    p_w_given_ham = (n_w_given_ham + alpha) / (N_ham + alpha*N_vocab)\n",
    "    dict_ham[word] = p_w_given_ham #attaching the probability that a word is mentioned given the message is ham\n",
    "    #to the dictionary with that word as key\n",
    "    "
   ]
  },
  {
   "cell_type": "code",
   "execution_count": null,
   "metadata": {},
   "outputs": [],
   "source": [
    "#One advantage of this kind of algorithm over other filtering algorithms\n",
    "#is that we calculate a lot of values (like we do above) before even\n",
    "#starting the algorithm, which makes it very fast.\n",
    "\n",
    "#When a new message comes in, most calculations have already been complete,\n",
    "#so the filtering process itself is almost instant.\n",
    "\n",
    "#This advanatge becomes more apparent, as the number of messages increases\n",
    "#to thousands or millions.\n",
    "#Filtering them is quick and requires a lot less computational power."
   ]
  },
  {
   "cell_type": "code",
   "execution_count": 32,
   "metadata": {},
   "outputs": [],
   "source": [
    "import re"
   ]
  },
  {
   "cell_type": "code",
   "execution_count": 33,
   "metadata": {},
   "outputs": [],
   "source": [
    "#Now we can create the spam filter\n",
    "def spam_filter(message):  #input has to be a string\n",
    "    message = re.sub('\\W', ' ', message) #some data cleaning on the input\n",
    "    message = message.lower().split()\n",
    "    \n",
    "   #Calculations - the goal is to find the probability that a message is spam given the word was mentioned in\n",
    "#that message\n",
    "   #(same for ham)\n",
    "\n",
    "    p_spam_given_message = p_spam #initially set that value as the probability that the message is spam\n",
    "    p_ham_given_message = p_ham #do the same thing respectively for ham\n",
    "    \n",
    "    for word in message:\n",
    "        if word in dict_spam: #if a word present in spam, update conditional probabnility by multiplying by the \n",
    "            #parameter calculated previously\n",
    "                              \n",
    "            p_spam_given_message *= dict_spam[word]\n",
    "        if word in dict_ham:\n",
    "            p_ham_given_message *= dict_ham[word] #similar procedure with ham\n",
    "     #if word not present anywhere, ignore it.  \n",
    "     \n",
    "    #                                                             n \n",
    "    #The formula we use here is: P(spam|w1,w2,...,wn) ∝ P(spam) * ∏ P(wi|Spam)\n",
    "    #                                                            i=1  \n",
    "    #The same formula is used for ham respectively\n",
    "    \n",
    "    #Sorting\n",
    "    if p_ham_given_message >= p_spam_given_message: #if probabilities are equal\n",
    "        return \"ham\" #we give it the benefit of the doubt and assume its ham \n",
    "    else: \n",
    "        return\"spam\"\n"
   ]
  },
  {
   "cell_type": "code",
   "execution_count": 34,
   "metadata": {},
   "outputs": [
    {
     "data": {
      "text/plain": [
       "'spam'"
      ]
     },
     "execution_count": 34,
     "metadata": {},
     "output_type": "execute_result"
    }
   ],
   "source": [
    "#Lets test the function on a basic level.\n",
    "spam_filter(\"WINNER! Claim you reward soon by using the code: 1546CD\")"
   ]
  },
  {
   "cell_type": "code",
   "execution_count": 35,
   "metadata": {},
   "outputs": [
    {
     "data": {
      "text/plain": [
       "'ham'"
      ]
     },
     "execution_count": 35,
     "metadata": {},
     "output_type": "execute_result"
    }
   ],
   "source": [
    "spam_filter(\"Hey, Do you know Tom's phone number?\")"
   ]
  },
  {
   "cell_type": "code",
   "execution_count": 36,
   "metadata": {},
   "outputs": [],
   "source": [
    "#We will now try to determine how well the spam filter works on\n",
    "#our test set of over 1k messages.\n",
    "#The algorithm will not see the actual labels in the test set, and will\n",
    "#try to filter spam on its own.\n",
    "#We can then compare the preditions to the actual labels.\n",
    "#We need to make a separate column in the test data for predicitons."
   ]
  },
  {
   "cell_type": "code",
   "execution_count": 37,
   "metadata": {},
   "outputs": [
    {
     "data": {
      "text/html": [
       "<div>\n",
       "<style scoped>\n",
       "    .dataframe tbody tr th:only-of-type {\n",
       "        vertical-align: middle;\n",
       "    }\n",
       "\n",
       "    .dataframe tbody tr th {\n",
       "        vertical-align: top;\n",
       "    }\n",
       "\n",
       "    .dataframe thead th {\n",
       "        text-align: right;\n",
       "    }\n",
       "</style>\n",
       "<table border=\"1\" class=\"dataframe\">\n",
       "  <thead>\n",
       "    <tr style=\"text-align: right;\">\n",
       "      <th></th>\n",
       "      <th>Label</th>\n",
       "      <th>SMS</th>\n",
       "      <th>Prediction</th>\n",
       "    </tr>\n",
       "  </thead>\n",
       "  <tbody>\n",
       "    <tr>\n",
       "      <th>0</th>\n",
       "      <td>ham</td>\n",
       "      <td>Later i guess. I needa do mcat study too.</td>\n",
       "      <td>ham</td>\n",
       "    </tr>\n",
       "    <tr>\n",
       "      <th>1</th>\n",
       "      <td>ham</td>\n",
       "      <td>But i haf enuff space got like 4 mb...</td>\n",
       "      <td>ham</td>\n",
       "    </tr>\n",
       "    <tr>\n",
       "      <th>2</th>\n",
       "      <td>spam</td>\n",
       "      <td>Had your mobile 10 mths? Update to latest Oran...</td>\n",
       "      <td>spam</td>\n",
       "    </tr>\n",
       "    <tr>\n",
       "      <th>3</th>\n",
       "      <td>ham</td>\n",
       "      <td>All sounds good. Fingers . Makes it difficult ...</td>\n",
       "      <td>ham</td>\n",
       "    </tr>\n",
       "    <tr>\n",
       "      <th>4</th>\n",
       "      <td>ham</td>\n",
       "      <td>All done, all handed in. Don't know if mega sh...</td>\n",
       "      <td>ham</td>\n",
       "    </tr>\n",
       "  </tbody>\n",
       "</table>\n",
       "</div>"
      ],
      "text/plain": [
       "  Label                                                SMS Prediction\n",
       "0   ham          Later i guess. I needa do mcat study too.        ham\n",
       "1   ham             But i haf enuff space got like 4 mb...        ham\n",
       "2  spam  Had your mobile 10 mths? Update to latest Oran...       spam\n",
       "3   ham  All sounds good. Fingers . Makes it difficult ...        ham\n",
       "4   ham  All done, all handed in. Don't know if mega sh...        ham"
      ]
     },
     "execution_count": 37,
     "metadata": {},
     "output_type": "execute_result"
    }
   ],
   "source": [
    "sms_test[\"Prediction\"] = sms_test[\"SMS\"].apply(spam_filter)\n",
    "sms_test.head()\n",
    "#This is the first few entries of the test data with the predictions added."
   ]
  },
  {
   "cell_type": "code",
   "execution_count": 38,
   "metadata": {},
   "outputs": [],
   "source": [
    "#Now we need to measure how accurate the spam filter is.\n",
    "# Accuracy = number of correct predictions/total number of entries\n",
    "correct = 0\n",
    "total = len(sms_test)\n",
    "for entry in sms_test.iterrows(): #iterating over the entries of our data\n",
    "    entry = entry[1]              #and counting the number of times the\n",
    "    if entry[\"Label\"] == entry[\"Prediction\"]: #prediction matched the label\n",
    "        correct += 1"
   ]
  },
  {
   "cell_type": "code",
   "execution_count": 39,
   "metadata": {},
   "outputs": [
    {
     "name": "stdout",
     "output_type": "stream",
     "text": [
      "Correct:  1101\n",
      "Incorrect:  13\n",
      "Accuracy (%) :  98.8330341113106\n"
     ]
    }
   ],
   "source": [
    "print(\"Correct: \", correct )\n",
    "print(\"Incorrect: \", total - correct)\n",
    "print(\"Accuracy (%) : \", (correct/total)*100)"
   ]
  },
  {
   "cell_type": "code",
   "execution_count": null,
   "metadata": {},
   "outputs": [],
   "source": [
    "#Great accuracy! Lets explore the 13 messages that our filter made a mistake on"
   ]
  },
  {
   "cell_type": "code",
   "execution_count": 44,
   "metadata": {},
   "outputs": [
    {
     "name": "stdout",
     "output_type": "stream",
     "text": [
      "Not heard from U4 a while. Call me now am here all night with just my knickers on. Make me beg for it like U did last time 01223585236 XX Luv Nikiyu4.net\n",
      "\n",
      "\n",
      "More people are dogging in your area now. Call 09090204448 and join like minded guys. Why not arrange 1 yourself. There's 1 this evening. A£1.50 minAPN LS278BB\n",
      "\n",
      "\n",
      "Unlimited texts. Limited minutes.\n",
      "\n",
      "\n",
      "26th OF JULY\n",
      "\n",
      "\n",
      "Nokia phone is lovly..\n",
      "\n",
      "\n",
      "No calls..messages..missed calls\n",
      "\n",
      "\n",
      "We have sent JD for Customer Service cum Accounts Executive to ur mail id, For details contact us\n",
      "\n",
      "\n",
      "Oh my god! I've found your number again! I'm so glad, text me back xafter this msgs cst std ntwk chg £1.50\n",
      "\n",
      "\n",
      "Hi babe its Chloe, how r u? I was smashed on saturday night, it was great! How was your weekend? U been missing me? SP visionsms.com Text stop to stop 150p/text\n",
      "\n",
      "\n",
      "0A$NETWORKS allow companies to bill for SMS, so they are responsible for their \"suppliers\", just as a shop has to give a guarantee on what they sell. B. G.\n",
      "\n",
      "\n",
      "RCT' THNQ Adrian for U text. Rgds Vatian\n",
      "\n",
      "\n",
      "2/2 146tf150p\n",
      "\n",
      "\n",
      "Hello. We need some posh birds and chaps to user trial prods for champneys. Can i put you down? I need your address and dob asap. Ta r\n",
      "\n",
      "\n"
     ]
    }
   ],
   "source": [
    "for entry in sms_test.iterrows():\n",
    "    entry = entry[1]\n",
    "    if entry[\"Label\"] != entry[\"Prediction\"]:\n",
    "        print(entry[\"SMS\"])\n",
    "        print(\"\\n\")"
   ]
  },
  {
   "cell_type": "code",
   "execution_count": null,
   "metadata": {},
   "outputs": [],
   "source": [
    "#It looks like a lot of those messages contain numbers, codes or price tags\n",
    "#which is why they could have been identified as spam even if they are not.\n",
    "#Messages that mention brands could also be associated with a lot of spam\n",
    "#messages. "
   ]
  },
  {
   "cell_type": "code",
   "execution_count": null,
   "metadata": {},
   "outputs": [],
   "source": [
    "#Vladimir Sapozhnikov."
   ]
  }
 ],
 "metadata": {
  "kernelspec": {
   "display_name": "Python 3",
   "language": "python",
   "name": "python3"
  },
  "language_info": {
   "codemirror_mode": {
    "name": "ipython",
    "version": 3
   },
   "file_extension": ".py",
   "mimetype": "text/x-python",
   "name": "python",
   "nbconvert_exporter": "python",
   "pygments_lexer": "ipython3",
   "version": "3.8.5"
  }
 },
 "nbformat": 4,
 "nbformat_minor": 4
}
